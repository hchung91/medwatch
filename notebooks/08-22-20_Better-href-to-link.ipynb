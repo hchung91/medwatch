{
 "cells": [
  {
   "cell_type": "code",
   "execution_count": 5,
   "metadata": {},
   "outputs": [
    {
     "name": "stdout",
     "output_type": "stream",
     "text": [
      "The autoreload extension is already loaded. To reload it, use:\n",
      "  %reload_ext autoreload\n"
     ]
    }
   ],
   "source": [
    "%load_ext autoreload\n",
    "%autoreload 2\n",
    "\n",
    "import requests\n",
    "from urllib.parse import urljoin\n",
    "from bs4 import BeautifulSoup"
   ]
  },
  {
   "cell_type": "code",
   "execution_count": 8,
   "metadata": {},
   "outputs": [
    {
     "name": "stdout",
     "output_type": "stream",
     "text": [
      "https://investors.biontech.de/news-releases/news-release-details/pfizer-and-biontech-share-positive-early-data-lead-mrna-vaccine\n"
     ]
    }
   ],
   "source": [
    "base = 'https://investors.biontech.de/press-releases/'\n",
    "href = '/news-releases/news-release-details/pfizer-and-biontech-share-positive-early-data-lead-mrna-vaccine'\n",
    "\n",
    "print(urljoin(base, href))"
   ]
  },
  {
   "cell_type": "code",
   "execution_count": 15,
   "metadata": {},
   "outputs": [
    {
     "name": "stdout",
     "output_type": "stream",
     "text": [
      "<a href=\"mailto:support@q4inc.com\">contact Q4</a>\n",
      "<a class=\"style3\" href=\"http://www.q4inc.com\">www.q4inc.com</a>\n"
     ]
    }
   ],
   "source": [
    "base = 'https://investors.pfizer.com/investor-news/default.aspx'\n",
    "r = requests.get(base, headers=headers)\n",
    "page = r.text\n",
    "page = ' '.join(page.split())\n",
    "soup = BeautifulSoup(page, 'lxml')\n",
    "body = soup.find('body')\n",
    "anchors = list(body.find_all(\"a\"))\n",
    "\n",
    "for anchor in anchors:\n",
    "    print(anchor)"
   ]
  },
  {
   "cell_type": "code",
   "execution_count": 17,
   "metadata": {},
   "outputs": [
    {
     "name": "stdout",
     "output_type": "stream",
     "text": [
      "Scraping the Latest H2A Release...\n"
     ]
    },
    {
     "ename": "TypeError",
     "evalue": "'NoneType' object is not subscriptable",
     "output_type": "error",
     "traceback": [
      "\u001b[0;31m---------------------------------------------------------------------------\u001b[0m",
      "\u001b[0;31mTypeError\u001b[0m                                 Traceback (most recent call last)",
      "\u001b[0;32m<ipython-input-17-b29b2fd01d21>\u001b[0m in \u001b[0;36m<module>\u001b[0;34m\u001b[0m\n\u001b[1;32m     16\u001b[0m     \u001b[0;34m'ctl00$bodyMaster$ScriptManager1'\u001b[0m\u001b[0;34m:\u001b[0m\u001b[0;34m''\u001b[0m\u001b[0;34m,\u001b[0m\u001b[0;34m\u001b[0m\u001b[0;34m\u001b[0m\u001b[0m\n\u001b[1;32m     17\u001b[0m     \u001b[0;34m'__VIEWSTATE'\u001b[0m\u001b[0;34m:\u001b[0m \u001b[0msoup\u001b[0m\u001b[0;34m.\u001b[0m\u001b[0mfind\u001b[0m\u001b[0;34m(\u001b[0m\u001b[0;34m'input'\u001b[0m\u001b[0;34m,\u001b[0m \u001b[0;34m{\u001b[0m\u001b[0;34m'id'\u001b[0m\u001b[0;34m:\u001b[0m \u001b[0;34m'__VIEWSTATE'\u001b[0m\u001b[0;34m}\u001b[0m\u001b[0;34m)\u001b[0m\u001b[0;34m[\u001b[0m\u001b[0;34m'value'\u001b[0m\u001b[0;34m]\u001b[0m\u001b[0;34m,\u001b[0m\u001b[0;34m\u001b[0m\u001b[0;34m\u001b[0m\u001b[0m\n\u001b[0;32m---> 18\u001b[0;31m     \u001b[0;34m'__VIEWSTATEGENERATOR'\u001b[0m\u001b[0;34m:\u001b[0m \u001b[0msoup\u001b[0m\u001b[0;34m.\u001b[0m\u001b[0mfind\u001b[0m\u001b[0;34m(\u001b[0m\u001b[0;34m'input'\u001b[0m\u001b[0;34m,\u001b[0m \u001b[0;34m{\u001b[0m\u001b[0;34m'id'\u001b[0m\u001b[0;34m:\u001b[0m \u001b[0;34m'__VIEWSTATEGENERATOR'\u001b[0m\u001b[0;34m}\u001b[0m\u001b[0;34m)\u001b[0m\u001b[0;34m[\u001b[0m\u001b[0;34m'value'\u001b[0m\u001b[0;34m]\u001b[0m\u001b[0;34m,\u001b[0m\u001b[0;34m\u001b[0m\u001b[0;34m\u001b[0m\u001b[0m\n\u001b[0m\u001b[1;32m     19\u001b[0m     \u001b[0;34m'__EVENTVALIDATION'\u001b[0m\u001b[0;34m:\u001b[0m \u001b[0msoup\u001b[0m\u001b[0;34m.\u001b[0m\u001b[0mfind\u001b[0m\u001b[0;34m(\u001b[0m\u001b[0;34m'input'\u001b[0m\u001b[0;34m,\u001b[0m \u001b[0;34m{\u001b[0m\u001b[0;34m'id'\u001b[0m\u001b[0;34m:\u001b[0m \u001b[0;34m'__EVENTVALIDATION'\u001b[0m\u001b[0;34m}\u001b[0m\u001b[0;34m)\u001b[0m\u001b[0;34m[\u001b[0m\u001b[0;34m'value'\u001b[0m\u001b[0;34m]\u001b[0m\u001b[0;34m,\u001b[0m\u001b[0;34m\u001b[0m\u001b[0;34m\u001b[0m\u001b[0m\n\u001b[1;32m     20\u001b[0m     \u001b[0;34m'__EVENTTARGET'\u001b[0m\u001b[0;34m:\u001b[0m \u001b[0;34m'ctl00$bodyMaster$searchButton'\u001b[0m\u001b[0;34m,\u001b[0m\u001b[0;34m\u001b[0m\u001b[0;34m\u001b[0m\u001b[0m\n",
      "\u001b[0;31mTypeError\u001b[0m: 'NoneType' object is not subscriptable"
     ]
    }
   ],
   "source": [
    "headers = {'User-Agent':'Mozilla/5.0 (Windows NT 10.0; Win64; x64) AppleWebKit/537.36 (KHTML, like Gecko) Chrome/62.0.3202.94 Safari/537.36'}\n",
    "print('Scraping the Latest H2A Release...')\n",
    "\n",
    "# first, use a get request\n",
    "url = 'https://investors.pfizer.com/investor-news/default.aspx'\n",
    "r_get = requests.get(url, headers=headers)\n",
    "data = r_get.text\n",
    "soup = BeautifulSoup(data, 'lxml')\n",
    "\n",
    "# our _EVENTTARGET is the search button\n",
    "postdata = {\n",
    "    'ctl00$bodyMaster$applicantTextBox':'',\n",
    "    'ctl00$bodyMaster$targetTextBox':'',\n",
    "    'ctl00$bodyMaster$sectionDropDownBox':'ALL',\n",
    "    'ctl00$bodyMaster$districtDropDownList': '2',\n",
    "    'ctl00$bodyMaster$ScriptManager1':'',\n",
    "    '__VIEWSTATE': soup.find('input', {'id': '__VIEWSTATE'})['value'],\n",
    "    '__VIEWSTATEGENERATOR': soup.find('input', {'id': '__VIEWSTATEGENERATOR'})['value'],\n",
    "    '__EVENTVALIDATION': soup.find('input', {'id': '__EVENTVALIDATION'})['value'],\n",
    "    '__EVENTTARGET': 'ctl00$bodyMaster$searchButton',\n",
    "}\n",
    "\n",
    "r_post = requests.post(url, data=postdata, cookies=r_get.cookies, headers=headers)\n",
    "soup = BeautifulSoup(r_post.text, 'html.parser')\n",
    "\n",
    "mylist5 = []\n",
    "for tr in soup.find_all('tr')[2:]:\n",
    "    tds = tr.find_all('td')\n",
    "    output5 = (\"Applicant: %s, Activity: %s, Law: %s, Reserve Bank: %s, End of Comment Period: %s \\r\\n\" % (tds[0].text, tds[1].text, tds[2].text, tds[3].text, tds[4].text))\n",
    "    mylist5.append(output5)\n",
    "    print(mylist5, end='\\n\\n')"
   ]
  }
 ],
 "metadata": {
  "kernelspec": {
   "display_name": "Python 3",
   "language": "python",
   "name": "python3"
  },
  "language_info": {
   "codemirror_mode": {
    "name": "ipython",
    "version": 3
   },
   "file_extension": ".py",
   "mimetype": "text/x-python",
   "name": "python",
   "nbconvert_exporter": "python",
   "pygments_lexer": "ipython3",
   "version": "3.8.2"
  }
 },
 "nbformat": 4,
 "nbformat_minor": 4
}
