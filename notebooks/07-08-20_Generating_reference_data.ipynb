{
 "cells": [
  {
   "cell_type": "code",
   "execution_count": 35,
   "metadata": {},
   "outputs": [
    {
     "name": "stdout",
     "output_type": "stream",
     "text": [
      "The autoreload extension is already loaded. To reload it, use:\n",
      "  %reload_ext autoreload\n"
     ]
    }
   ],
   "source": [
    "%load_ext autoreload\n",
    "%autoreload 2"
   ]
  },
  {
   "cell_type": "code",
   "execution_count": 39,
   "metadata": {},
   "outputs": [],
   "source": [
    "import os\n",
    "import sys\n",
    "import csv\n",
    "import pandas as pd\n",
    "sys.path.append('../python')\n",
    "import medwatch as mw"
   ]
  },
  {
   "cell_type": "code",
   "execution_count": 37,
   "metadata": {},
   "outputs": [],
   "source": [
    "# f = open('../datasets/keywords_covid.csv', 'r')\n",
    "# reader = csv.reader(f, delimiter = '\\n')\n",
    "# kws = list(reader)\n",
    "# keywords = []\n",
    "# for keyword in kws:\n",
    "#     keywords.append(keyword[0])\n",
    "# print(keywords)"
   ]
  },
  {
   "cell_type": "code",
   "execution_count": 6,
   "metadata": {},
   "outputs": [
    {
     "name": "stdout",
     "output_type": "stream",
     "text": [
      "['clinical trial', 'phase I', 'phase 1', 'phase ii', 'phase 2', 'phase 1/2', 'phase iii', 'phase 3', 'late stage', 'federal', 'government', 'funding', 'operation warp speed', 'who health organization', 'WHO', 'FDA', 'doses', 'manufacturing', 'partner', 'partnership', 'vaccine', 'treatment', 'immune', 'immunity', 'antibody', 'antibodies', 'safety', 'adverse', 'reaction', 'beneficial']\n"
     ]
    }
   ],
   "source": [
    "keywords_csv = '../datasets/keywords_covid.csv'\n",
    "keywords = mw.load_keywords_csv(keywords_csv)\n",
    "print(keywords)"
   ]
  },
  {
   "cell_type": "code",
   "execution_count": 25,
   "metadata": {},
   "outputs": [
    {
     "name": "stdout",
     "output_type": "stream",
     "text": [
      "30\n",
      "30\n"
     ]
    }
   ],
   "source": [
    "path_data = '../datasets/WHO-covid19-landscape-07_06_20-update.csv'\n",
    "df = pd.read_csv(path_data)\n",
    "developers = df['Developer'].tolist()\n",
    "companies = []\n",
    "\n",
    "\n",
    "# GET LIST OF COMPANIES\n",
    "# For each row, split to individual organizations\n",
    "for developer in developers:\n",
    "    if mw.is_na(developer):\n",
    "        continue\n",
    "        \n",
    "    organizations = developer.split('/')\n",
    "    \n",
    "    # For each organization, clean up formatting and add to companies list if not academia\n",
    "    for organization in organizations:\n",
    "        organization = organization.replace('\\n', ' ')\n",
    "        if not mw.is_academia(organization):\n",
    "            companies.append(organization)\n",
    "\n",
    "companies = list(set(companies)) # removes duplicates\n",
    "            \n",
    "symbols = []\n",
    "exchanges = []\n",
    "ynames = []\n",
    "is_us = []\n",
    "\n",
    "for company in companies:\n",
    "    sym, exch, yco, usa = mw.check_usa_mkts(mw.get_company_info(company))\n",
    "    symbols.append(sym)\n",
    "    exchanges.append(exch)\n",
    "    ynames.append(yco)\n",
    "    is_us.append(usa)"
   ]
  },
  {
   "cell_type": "code",
   "execution_count": 33,
   "metadata": {},
   "outputs": [
    {
     "name": "stdout",
     "output_type": "stream",
     "text": [
      "['Medicago Inc.', 'AstraZeneca', 'Cadila Healthcare Limited', 'Beijing Institute of Biotechnology', ' Takara Bio', 'Wuhan Institute of Biological Products', 'Beijing Institute of Biological Products', 'Sinovac', 'Gamaleya Research Institute', 'Moderna', ' Université Laval', 'Walvax Biotech.', 'Inovio Pharmaceuticals', 'BioNTech', 'NIAID', 'GSK', 'Vaxine Pty Ltd', 'Medytox', 'Clover Biopharmaceuticals Inc.', 'CanSino Biological Inc.', 'Curevac', 'Pfizer', 'Sinopharm', 'Anhui Zhifei Longcom Biopharmaceutical', 'Dynavax', 'Novavax', ' AnGes', ' International Vaccine Institute', 'Fosun Pharma', 'Genexine Consortium']\n",
      "['n/a', 'AZN', 'n/a', 'n/a', 'TKBIF', 'n/a', 'n/a', 'SVA', 'n/a', 'MRNA', 'n/a', '300142.SZ', 'INO', 'BNTX', 'n/a', 'GSK', 'n/a', 'n/a', 'n/a', 'n/a', 'n/a', 'PFE', 'SHTDY', 'n/a', 'DVAX', 'NVAX', 'AMGXF', 'n/a', 'SFOSF', 'n/a']\n",
      "['n/a', 'Y', 'n/a', 'n/a', 'N', 'n/a', 'n/a', 'Y', 'n/a', 'Y', 'n/a', 'N', 'Y', 'Y', 'n/a', 'Y', 'n/a', 'n/a', 'n/a', 'n/a', 'n/a', 'Y', 'N', 'n/a', 'Y', 'Y', 'N', 'n/a', 'N', 'n/a']\n"
     ]
    },
    {
     "ename": "NameError",
     "evalue": "name 'pd_data' is not defined",
     "output_type": "error",
     "traceback": [
      "\u001b[0;31m---------------------------------------------------------------------------\u001b[0m",
      "\u001b[0;31mNameError\u001b[0m                                 Traceback (most recent call last)",
      "\u001b[0;32m<ipython-input-33-6e4c0d885c3d>\u001b[0m in \u001b[0;36m<module>\u001b[0;34m\u001b[0m\n\u001b[1;32m      2\u001b[0m \u001b[0mprint\u001b[0m\u001b[0;34m(\u001b[0m\u001b[0msymbols\u001b[0m\u001b[0;34m)\u001b[0m\u001b[0;34m\u001b[0m\u001b[0;34m\u001b[0m\u001b[0m\n\u001b[1;32m      3\u001b[0m \u001b[0mprint\u001b[0m\u001b[0;34m(\u001b[0m\u001b[0mis_us\u001b[0m\u001b[0;34m)\u001b[0m\u001b[0;34m\u001b[0m\u001b[0;34m\u001b[0m\u001b[0m\n\u001b[0;32m----> 4\u001b[0;31m \u001b[0mpd_data\u001b[0m\u001b[0;34m.\u001b[0m\u001b[0mget_quote_yahoo\u001b[0m\u001b[0;34m(\u001b[0m\u001b[0;34m'TKBIF'\u001b[0m\u001b[0;34m)\u001b[0m\u001b[0;34m[\u001b[0m\u001b[0;34m'marketCap'\u001b[0m\u001b[0;34m]\u001b[0m\u001b[0;34m\u001b[0m\u001b[0;34m\u001b[0m\u001b[0m\n\u001b[0m",
      "\u001b[0;31mNameError\u001b[0m: name 'pd_data' is not defined"
     ]
    }
   ],
   "source": [
    "print(companies)\n",
    "print(symbols)\n",
    "print(is_us)\n",
    "pd_data.get_quote_yahoo('TKBIF')['marketCap']"
   ]
  },
  {
   "cell_type": "code",
   "execution_count": 40,
   "metadata": {},
   "outputs": [
    {
     "name": "stdout",
     "output_type": "stream",
     "text": [
      "Skipping Medicago Inc.\n",
      "\n",
      "Checking AstraZeneca [AZN]\n",
      "Searching for press release page on http://www.astrazeneca.com\n",
      "Found: ['https://www.astrazeneca.com/media-centre/press-releases.html']\n",
      "-------------------------------------\n",
      "\n",
      "Skipping Cadila Healthcare Limited\n",
      "\n",
      "Skipping Beijing Institute of Biotechnology\n",
      "\n",
      "Checking  Takara Bio [TKBIF]\n",
      "Market cap for TKBIF not found.\n",
      "Market cap not defined.\n",
      "Searching for press release page on http://www.takara-bio.com\n",
      "Found: ['http://www.takara-bio.com/release/']\n",
      "-------------------------------------\n",
      "\n",
      "Skipping Wuhan Institute of Biological Products\n",
      "\n",
      "Skipping Beijing Institute of Biological Products\n",
      "\n",
      "Checking Sinovac [SVA]\n",
      "Searching for press release page on http://www.sinovacbio.com\n",
      "Found: ['http://www.sinovacbio.com/?optionid=754']\n",
      "-------------------------------------\n",
      "\n",
      "Skipping Gamaleya Research Institute\n",
      "\n",
      "Checking Moderna [MRNA]\n",
      "Searching for press release page on http://www.modernatx.com\n",
      "Found: ['https://investors.modernatx.com/news-releases/']\n",
      "-------------------------------------\n",
      "\n",
      "Skipping  Université Laval\n",
      "\n",
      "Checking Walvax Biotech. [300142.SZ]\n",
      "Searching for press release page on http://www.walvax.com\n",
      "Found: ['n/a']\n",
      "-------------------------------------\n",
      "\n",
      "Checking Inovio Pharmaceuticals [INO]\n",
      "Searching for press release page on http://www.inovio.com\n",
      "Found: ['http://ir.inovio.com/news-releases/default.aspx']\n",
      "-------------------------------------\n",
      "\n",
      "Checking BioNTech [BNTX]\n",
      "Searching for press release page on http://www.biontech.de\n",
      "Found: ['https://investors.biontech.de/press-releases/']\n",
      "-------------------------------------\n",
      "\n",
      "Skipping NIAID\n",
      "\n",
      "Checking GSK [GSK]\n",
      "Searching for press release page on http://www.gsk.com\n",
      "Found: ['https://www.gsk.com/en-gb/media/press-releases/']\n",
      "-------------------------------------\n",
      "\n",
      "Skipping Vaxine Pty Ltd\n",
      "\n",
      "Skipping Medytox\n",
      "\n",
      "Skipping Clover Biopharmaceuticals Inc.\n",
      "\n",
      "Skipping CanSino Biological Inc.\n",
      "\n",
      "Skipping Curevac\n",
      "\n",
      "Checking Pfizer [PFE]\n",
      "Searching for press release page on http://www.pfizer.com\n",
      "Found: ['https://www.pfizer.com/news/press-release/press-releases-archive']\n",
      "-------------------------------------\n",
      "\n",
      "Checking Sinopharm [SHTDY]\n",
      "Searching for press release page on http://www.sinopharmgroup.com.cn\n",
      "Found: ['http://ir.sinopharmgroup.com.cn/']\n",
      "-------------------------------------\n",
      "\n",
      "Skipping Anhui Zhifei Longcom Biopharmaceutical\n",
      "\n",
      "Checking Dynavax [DVAX]\n",
      "Searching for press release page on http://www.dynavax.com\n",
      "Found: ['http://investors.dynavax.com/press-releases']\n",
      "-------------------------------------\n",
      "\n",
      "Checking Novavax [NVAX]\n",
      "Searching for press release page on http://www.novavax.com\n",
      "Found: ['https://ir.novavax.com/press-releases']\n",
      "-------------------------------------\n",
      "\n",
      "Checking  AnGes [AMGXF]\n",
      "Market cap for AMGXF not found.\n",
      "Market cap not defined.\n",
      "Searching for press release page on http://www.anges.co.jp\n",
      "Found: ['https://www.anges.co.jp/en/news/index.php']\n",
      "-------------------------------------\n",
      "\n",
      "Skipping  International Vaccine Institute\n",
      "\n",
      "Checking Fosun Pharma [SFOSF]\n",
      "Searching for press release page on http://www.fosunpharma.com\n",
      "Found: ['https://www.fosunpharma.com/en/news/mediaReports.html']\n",
      "-------------------------------------\n",
      "\n",
      "Skipping Genexine Consortium\n",
      "\n"
     ]
    }
   ],
   "source": [
    "marketcaps = []\n",
    "sizes = []\n",
    "urls = []\n",
    "urls_pr = []\n",
    "\n",
    "for sym, co in zip(symbols, companies):\n",
    "    if sym == 'n/a':\n",
    "        print(f'Skipping {co}\\n')\n",
    "        marketcaps.append('n/a')\n",
    "        sizes.append('n/a')\n",
    "        urls.append('n/a')\n",
    "        urls_pr.append('n/a')\n",
    "        continue\n",
    "\n",
    "    print(f'Checking {co} [{sym}]')\n",
    "    marketcap = mw.get_market_cap(sym)\n",
    "    size = mw.id_company_size(marketcap)\n",
    "    url = mw.get_company_url(sym)\n",
    "    url_pr = mw.get_press_release_page(url)\n",
    "    \n",
    "    marketcaps.append(marketcap)\n",
    "    sizes.append(size)\n",
    "    urls.append(url)\n",
    "    urls_pr.append(url_pr)\n",
    "\n",
    "print('Search complete')\n"
   ]
  },
  {
   "cell_type": "code",
   "execution_count": 42,
   "metadata": {},
   "outputs": [],
   "source": [
    "df = pd.DataFrame({'Company': companies, \n",
    "                   'Yahoo Listed Co.': ynames, \n",
    "                   'Symbol': symbols, \n",
    "                   'Exchange': exchanges, \n",
    "                   'Market Cap': marketcaps, \n",
    "                   'Company Size': sizes, \n",
    "                   'Is American': is_us,\n",
    "                   'Home URL': urls,\n",
    "                   'Press Release URL': urls_pr})\n",
    "df.to_csv('../datasets/updated_company_list.csv', index = False)"
   ]
  }
 ],
 "metadata": {
  "kernelspec": {
   "display_name": "Python 3",
   "language": "python",
   "name": "python3"
  },
  "language_info": {
   "codemirror_mode": {
    "name": "ipython",
    "version": 3
   },
   "file_extension": ".py",
   "mimetype": "text/x-python",
   "name": "python",
   "nbconvert_exporter": "python",
   "pygments_lexer": "ipython3",
   "version": "3.8.2"
  }
 },
 "nbformat": 4,
 "nbformat_minor": 4
}
