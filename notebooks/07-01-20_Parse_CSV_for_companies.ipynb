{
 "cells": [
  {
   "cell_type": "code",
   "execution_count": 1,
   "metadata": {},
   "outputs": [],
   "source": [
    "%load_ext autoreload\n",
    "%autoreload 2"
   ]
  },
  {
   "cell_type": "code",
   "execution_count": 2,
   "metadata": {},
   "outputs": [],
   "source": [
    "import os\n",
    "import csv\n",
    "import sys\n",
    "import pandas as pd\n",
    "import numpy as np"
   ]
  },
  {
   "cell_type": "code",
   "execution_count": 7,
   "metadata": {},
   "outputs": [
    {
     "data": {
      "text/html": [
       "<div>\n",
       "<style scoped>\n",
       "    .dataframe tbody tr th:only-of-type {\n",
       "        vertical-align: middle;\n",
       "    }\n",
       "\n",
       "    .dataframe tbody tr th {\n",
       "        vertical-align: top;\n",
       "    }\n",
       "\n",
       "    .dataframe thead th {\n",
       "        text-align: right;\n",
       "    }\n",
       "</style>\n",
       "<table border=\"1\" class=\"dataframe\">\n",
       "  <thead>\n",
       "    <tr style=\"text-align: right;\">\n",
       "      <th></th>\n",
       "      <th>Platform</th>\n",
       "      <th>Type of candidate vaccine</th>\n",
       "      <th>Developer</th>\n",
       "      <th>Coronavirus target</th>\n",
       "      <th>Current stage of clinical evaluation/regulatory status- Coronavirus candidate</th>\n",
       "      <th>Same platform for non-Coronavirus candidates</th>\n",
       "    </tr>\n",
       "  </thead>\n",
       "  <tbody>\n",
       "    <tr>\n",
       "      <th>0</th>\n",
       "      <td>Non- Replicating Viral Vector</td>\n",
       "      <td>ChAdOx1-S</td>\n",
       "      <td>University of Oxford/AstraZeneca</td>\n",
       "      <td>SARS-CoV2</td>\n",
       "      <td>Phase 3 ISRCTN89951424\\nPhase2b/3\\n2020-001228...</td>\n",
       "      <td>MERS, influenza, TB, Chikungunya, Zika, MenB, ...</td>\n",
       "    </tr>\n",
       "    <tr>\n",
       "      <th>1</th>\n",
       "      <td>Non- Replicating Viral Vector</td>\n",
       "      <td>Adenovirus Type 5 Vector</td>\n",
       "      <td>CanSino Biological Inc./Beijing Institute of B...</td>\n",
       "      <td>SARS-CoV2</td>\n",
       "      <td>Phase 2 ChiCTR2000031781\\nPhase 1\\nChiCTR20000...</td>\n",
       "      <td>Ebola</td>\n",
       "    </tr>\n",
       "    <tr>\n",
       "      <th>2</th>\n",
       "      <td>RNA</td>\n",
       "      <td>LNP-\\nencapsulated mRNA</td>\n",
       "      <td>Moderna/NIAID</td>\n",
       "      <td>SARS-CoV2</td>\n",
       "      <td>Phase 2 NCT04405076\\nPhase 1 NCT04283461</td>\n",
       "      <td>multiple candidates</td>\n",
       "    </tr>\n",
       "    <tr>\n",
       "      <th>3</th>\n",
       "      <td>Inactivated</td>\n",
       "      <td>Inactivated</td>\n",
       "      <td>Wuhan Institute of Biological\\nProducts/Sinopharm</td>\n",
       "      <td>SARS-CoV2</td>\n",
       "      <td>Phase 1/2 ChiCTR2000031809</td>\n",
       "      <td>NaN</td>\n",
       "    </tr>\n",
       "    <tr>\n",
       "      <th>4</th>\n",
       "      <td>Inactivated</td>\n",
       "      <td>Inactivated</td>\n",
       "      <td>Beijing Institute of Biological Products/Sinop...</td>\n",
       "      <td>SARS-CoV2</td>\n",
       "      <td>Phase 1/2 ChiCTR2000032459</td>\n",
       "      <td>NaN</td>\n",
       "    </tr>\n",
       "    <tr>\n",
       "      <th>5</th>\n",
       "      <td>Inactivated</td>\n",
       "      <td>Inactivated + alum</td>\n",
       "      <td>Sinovac</td>\n",
       "      <td>SARS-CoV2</td>\n",
       "      <td>Phase 1/2 NCT04383574 NCT04352608</td>\n",
       "      <td>SARS</td>\n",
       "    </tr>\n",
       "    <tr>\n",
       "      <th>6</th>\n",
       "      <td>Protein Subunit</td>\n",
       "      <td>Full length recombinant SARS CoV-2\\nglycoprote...</td>\n",
       "      <td>Novavax</td>\n",
       "      <td>SARS-CoV2</td>\n",
       "      <td>Phase 1/2 NCT04368988</td>\n",
       "      <td>RSV; CCHF, HPV, VZV, EBOV</td>\n",
       "    </tr>\n",
       "    <tr>\n",
       "      <th>7</th>\n",
       "      <td>RNA</td>\n",
       "      <td>3 LNP-mRNAs</td>\n",
       "      <td>BioNTech/Fosun Pharma/Pfizer</td>\n",
       "      <td>SARS-CoV2</td>\n",
       "      <td>Phase 1/2\\n2020-001038-36\\nNCT04368728</td>\n",
       "      <td>NaN</td>\n",
       "    </tr>\n",
       "    <tr>\n",
       "      <th>8</th>\n",
       "      <td>Inactivated</td>\n",
       "      <td>Inactivated</td>\n",
       "      <td>Institute of Medical Biology\\n, Chinese Academ...</td>\n",
       "      <td>SARS-CoV2</td>\n",
       "      <td>Phase 1 NCT04412538</td>\n",
       "      <td>NaN</td>\n",
       "    </tr>\n",
       "    <tr>\n",
       "      <th>9</th>\n",
       "      <td>DNA</td>\n",
       "      <td>DNA plasmid vaccine with electroporation</td>\n",
       "      <td>Inovio Pharmaceuticals</td>\n",
       "      <td>SARS-CoV2</td>\n",
       "      <td>Phase 1 NCT04336410</td>\n",
       "      <td>multiple candidates</td>\n",
       "    </tr>\n",
       "    <tr>\n",
       "      <th>10</th>\n",
       "      <td>DNA</td>\n",
       "      <td>DNA Vaccine\\n(GX-19)</td>\n",
       "      <td>Genexine Consortium</td>\n",
       "      <td>SARS-CoV2</td>\n",
       "      <td>Phase 1\\nNCT04445389</td>\n",
       "      <td>NaN</td>\n",
       "    </tr>\n",
       "    <tr>\n",
       "      <th>11</th>\n",
       "      <td>Non- Replicating\\nViral Vector</td>\n",
       "      <td>Adeno-based</td>\n",
       "      <td>Gamaleya Research Institute</td>\n",
       "      <td>SARS-CoV2</td>\n",
       "      <td>Phase 1 NCT04436471\\nNCT04437875</td>\n",
       "      <td>NaN</td>\n",
       "    </tr>\n",
       "    <tr>\n",
       "      <th>12</th>\n",
       "      <td>Protein Subunit</td>\n",
       "      <td>Native like Trimeric subunit Spike Protein vac...</td>\n",
       "      <td>Clover Biopharmaceuticals Inc./GSK/Dynavax</td>\n",
       "      <td>SARS-CoV2</td>\n",
       "      <td>Phase 1 NCT04405908</td>\n",
       "      <td>HIV, REV Influenza</td>\n",
       "    </tr>\n",
       "    <tr>\n",
       "      <th>13</th>\n",
       "      <td>Protein Subunit</td>\n",
       "      <td>Adjuvanted recombinant protein  (RBD- Dimer)</td>\n",
       "      <td>Anhui Zhifei Longcom Biopharmaceutical/ Instit...</td>\n",
       "      <td>SARS-CoV2</td>\n",
       "      <td>Phase 1 NCT04445194</td>\n",
       "      <td>MERS</td>\n",
       "    </tr>\n",
       "    <tr>\n",
       "      <th>14</th>\n",
       "      <td>RNA</td>\n",
       "      <td>LNP-nCoVsaRNA</td>\n",
       "      <td>Imperial College London</td>\n",
       "      <td>SARS-CoV2</td>\n",
       "      <td>Phase 1\\nISRCTN17072692</td>\n",
       "      <td>EBOV; LASV, MARV,\\nInf (H7N9), RABV</td>\n",
       "    </tr>\n",
       "    <tr>\n",
       "      <th>15</th>\n",
       "      <td>RNA</td>\n",
       "      <td>mRNA</td>\n",
       "      <td>Curevac</td>\n",
       "      <td>SARS-CoV2</td>\n",
       "      <td>Phase 1 NCT04449276</td>\n",
       "      <td>RABV, LASV, YFV; MERS, InfA, ZIKV,\\nDENV, NIPV</td>\n",
       "    </tr>\n",
       "    <tr>\n",
       "      <th>16</th>\n",
       "      <td>RNA</td>\n",
       "      <td>mRNA</td>\n",
       "      <td>People's Liberation Army (PLA) Academy of Mili...</td>\n",
       "      <td>SARS-CoV2</td>\n",
       "      <td>Phase 1 ChiCTR2000034112</td>\n",
       "      <td>NaN</td>\n",
       "    </tr>\n",
       "  </tbody>\n",
       "</table>\n",
       "</div>"
      ],
      "text/plain": [
       "                          Platform  \\\n",
       "0    Non- Replicating Viral Vector   \n",
       "1    Non- Replicating Viral Vector   \n",
       "2                              RNA   \n",
       "3                      Inactivated   \n",
       "4                      Inactivated   \n",
       "5                      Inactivated   \n",
       "6                  Protein Subunit   \n",
       "7                              RNA   \n",
       "8                      Inactivated   \n",
       "9                              DNA   \n",
       "10                             DNA   \n",
       "11  Non- Replicating\\nViral Vector   \n",
       "12                 Protein Subunit   \n",
       "13                 Protein Subunit   \n",
       "14                             RNA   \n",
       "15                             RNA   \n",
       "16                             RNA   \n",
       "\n",
       "                            Type of candidate vaccine  \\\n",
       "0                                           ChAdOx1-S   \n",
       "1                            Adenovirus Type 5 Vector   \n",
       "2                             LNP-\\nencapsulated mRNA   \n",
       "3                                         Inactivated   \n",
       "4                                         Inactivated   \n",
       "5                                  Inactivated + alum   \n",
       "6   Full length recombinant SARS CoV-2\\nglycoprote...   \n",
       "7                                         3 LNP-mRNAs   \n",
       "8                                         Inactivated   \n",
       "9            DNA plasmid vaccine with electroporation   \n",
       "10                               DNA Vaccine\\n(GX-19)   \n",
       "11                                        Adeno-based   \n",
       "12  Native like Trimeric subunit Spike Protein vac...   \n",
       "13       Adjuvanted recombinant protein  (RBD- Dimer)   \n",
       "14                                      LNP-nCoVsaRNA   \n",
       "15                                               mRNA   \n",
       "16                                               mRNA   \n",
       "\n",
       "                                            Developer Coronavirus target  \\\n",
       "0                    University of Oxford/AstraZeneca          SARS-CoV2   \n",
       "1   CanSino Biological Inc./Beijing Institute of B...          SARS-CoV2   \n",
       "2                                       Moderna/NIAID          SARS-CoV2   \n",
       "3   Wuhan Institute of Biological\\nProducts/Sinopharm          SARS-CoV2   \n",
       "4   Beijing Institute of Biological Products/Sinop...          SARS-CoV2   \n",
       "5                                             Sinovac          SARS-CoV2   \n",
       "6                                             Novavax          SARS-CoV2   \n",
       "7                        BioNTech/Fosun Pharma/Pfizer          SARS-CoV2   \n",
       "8   Institute of Medical Biology\\n, Chinese Academ...          SARS-CoV2   \n",
       "9                              Inovio Pharmaceuticals          SARS-CoV2   \n",
       "10                                Genexine Consortium          SARS-CoV2   \n",
       "11                        Gamaleya Research Institute          SARS-CoV2   \n",
       "12         Clover Biopharmaceuticals Inc./GSK/Dynavax          SARS-CoV2   \n",
       "13  Anhui Zhifei Longcom Biopharmaceutical/ Instit...          SARS-CoV2   \n",
       "14                            Imperial College London          SARS-CoV2   \n",
       "15                                            Curevac          SARS-CoV2   \n",
       "16  People's Liberation Army (PLA) Academy of Mili...          SARS-CoV2   \n",
       "\n",
       "   Current stage of clinical evaluation/regulatory status- Coronavirus candidate  \\\n",
       "0   Phase 3 ISRCTN89951424\\nPhase2b/3\\n2020-001228...                              \n",
       "1   Phase 2 ChiCTR2000031781\\nPhase 1\\nChiCTR20000...                              \n",
       "2            Phase 2 NCT04405076\\nPhase 1 NCT04283461                              \n",
       "3                          Phase 1/2 ChiCTR2000031809                              \n",
       "4                          Phase 1/2 ChiCTR2000032459                              \n",
       "5                   Phase 1/2 NCT04383574 NCT04352608                              \n",
       "6                               Phase 1/2 NCT04368988                              \n",
       "7              Phase 1/2\\n2020-001038-36\\nNCT04368728                              \n",
       "8                                 Phase 1 NCT04412538                              \n",
       "9                                 Phase 1 NCT04336410                              \n",
       "10                               Phase 1\\nNCT04445389                              \n",
       "11                   Phase 1 NCT04436471\\nNCT04437875                              \n",
       "12                                Phase 1 NCT04405908                              \n",
       "13                                Phase 1 NCT04445194                              \n",
       "14                            Phase 1\\nISRCTN17072692                              \n",
       "15                                Phase 1 NCT04449276                              \n",
       "16                           Phase 1 ChiCTR2000034112                              \n",
       "\n",
       "         Same platform for non-Coronavirus candidates  \n",
       "0   MERS, influenza, TB, Chikungunya, Zika, MenB, ...  \n",
       "1                                               Ebola  \n",
       "2                                 multiple candidates  \n",
       "3                                                 NaN  \n",
       "4                                                 NaN  \n",
       "5                                                SARS  \n",
       "6                           RSV; CCHF, HPV, VZV, EBOV  \n",
       "7                                                 NaN  \n",
       "8                                                 NaN  \n",
       "9                                 multiple candidates  \n",
       "10                                                NaN  \n",
       "11                                                NaN  \n",
       "12                                 HIV, REV Influenza  \n",
       "13                                               MERS  \n",
       "14                EBOV; LASV, MARV,\\nInf (H7N9), RABV  \n",
       "15     RABV, LASV, YFV; MERS, InfA, ZIKV,\\nDENV, NIPV  \n",
       "16                                                NaN  "
      ]
     },
     "execution_count": 7,
     "metadata": {},
     "output_type": "execute_result"
    }
   ],
   "source": [
    "path_data = '../datasets/WHO-covid19-clinicaltrials.csv'\n",
    "df = pd.read_csv(path_data)\n",
    "df.head(17)"
   ]
  },
  {
   "cell_type": "code",
   "execution_count": 22,
   "metadata": {},
   "outputs": [
    {
     "name": "stdout",
     "output_type": "stream",
     "text": [
      "['AstraZeneca', 'CanSino Biological Inc.', 'Beijing Institute of Biotechnology', 'Moderna', 'NIAID', 'Wuhan Institute of Biological Products', 'Sinopharm', 'Beijing Institute of Biological Products', 'Sinopharm', 'Sinovac', 'Novavax', 'BioNTech', 'Fosun Pharma', 'Pfizer', 'Inovio Pharmaceuticals', 'Genexine Consortium', 'Gamaleya Research Institute', 'Clover Biopharmaceuticals Inc.', 'GSK', 'Dynavax', 'Anhui Zhifei Longcom Biopharmaceutical', 'Curevac', 'Walvax Biotech.']\n"
     ]
    }
   ],
   "source": [
    "developers = df['Developer'].tolist()\n",
    "companies = []\n",
    "\n",
    "# Function to see if organization is a university\n",
    "def is_academia(organization: str):\n",
    "    keywords = ['University', 'College', 'Academy']\n",
    "    \n",
    "    # https://stackoverflow.com/questions/8122079/python-how-to-check-a-string-for-substrings-from-a-list\n",
    "    tf = any(map(organization.__contains__, keywords))\n",
    "    return tf\n",
    "\n",
    "\n",
    "# For each row, split to individual organizations\n",
    "for developer in developers:\n",
    "    organizations = developer.split('/')\n",
    "    \n",
    "    # For each organization, clean up formatting and add to companies list if not academia\n",
    "    for organization in organizations:\n",
    "        organization = organization.replace('\\n', ' ')\n",
    "        if not is_academia(organization):\n",
    "            companies.append(organization)\n",
    "\n",
    "print(companies)\n",
    "        "
   ]
  },
  {
   "cell_type": "markdown",
   "metadata": {},
   "source": [
    "# Get company ticker from company name\n",
    "Just using Wikipedia for the time being.\n",
    "\n",
    "A more robust solution would probably be to use Yahoo! Finance's API\n",
    "\n",
    "e.g. http://d.yimg.com/autoc.finance.yahoo.com/autoc?query=COMPANY_NAME_HERE&region=1&lang=en&callback=YAHOO.Finance.SymbolSuggest.ssCallback"
   ]
  },
  {
   "cell_type": "code",
   "execution_count": 50,
   "metadata": {},
   "outputs": [],
   "source": [
    "# 12 American Securities Markets\n",
    "am_mkts = ['NYSE', 'NASDAQ', 'AMEX', 'BSE', 'CBOE', 'CBOT', 'CME', 'CHX', 'ISE', 'MS4X', 'NSX', 'PHLX']"
   ]
  },
  {
   "cell_type": "markdown",
   "metadata": {},
   "source": [
    "### Scraping Wikipedia Approach"
   ]
  },
  {
   "cell_type": "code",
   "execution_count": 67,
   "metadata": {},
   "outputs": [
    {
     "name": "stdout",
     "output_type": "stream",
     "text": [
      "Looking up AstraZeneca\n"
     ]
    },
    {
     "name": "stderr",
     "output_type": "stream",
     "text": [
      "en.wikipedia.org (parse) AstraZeneca\n",
      "AstraZeneca (en) data\n",
      "{\n",
      "  infobox: <dict(17)> name, logo, type, traded_as, predecessors, f...\n",
      "  iwlinks: <list(1)> https://commons.wikimedia.org/wiki/Category:A...\n",
      "  pageid: 441872\n",
      "  parsetree: <str(71937)> <root><template><title>short description...\n",
      "  requests: <list(1)> parse\n",
      "  title: AstraZeneca\n",
      "  wikibase: Q731938\n",
      "  wikidata_url: https://www.wikidata.org/wiki/Q731938\n",
      "  wikitext: <str(58695)> {{short description|British-Swedish pharm...\n",
      "}\n",
      "en.wikipedia.org (parse) CanSino Biological Inc.\n"
     ]
    },
    {
     "name": "stdout",
     "output_type": "stream",
     "text": [
      "['AZN']\n",
      "[' nyse']\n",
      "Looking up CanSino Biological Inc.\n"
     ]
    },
    {
     "name": "stderr",
     "output_type": "stream",
     "text": [
      "API error: {'code': 'missingtitle', 'info': \"The page you specified doesn't exist.\", 'docref': 'See https://en.wikipedia.org/w/api.php for API usage. Subscribe to the mediawiki-api-announce mailing list at &lt;https://lists.wikimedia.org/mailman/listinfo/mediawiki-api-announce&gt; for notice of API deprecations and breaking changes.'}\n",
      "en.wikipedia.org (parse) Beijing Institute of Biotechnology\n"
     ]
    },
    {
     "name": "stdout",
     "output_type": "stream",
     "text": [
      "Wiki page could not be found for CanSino Biological Inc.\n",
      "['AZN', 'n/a']\n",
      "[' nyse', 'n/a']\n",
      "Looking up Beijing Institute of Biotechnology\n"
     ]
    },
    {
     "name": "stderr",
     "output_type": "stream",
     "text": [
      "API error: {'code': 'missingtitle', 'info': \"The page you specified doesn't exist.\", 'docref': 'See https://en.wikipedia.org/w/api.php for API usage. Subscribe to the mediawiki-api-announce mailing list at &lt;https://lists.wikimedia.org/mailman/listinfo/mediawiki-api-announce&gt; for notice of API deprecations and breaking changes.'}\n",
      "en.wikipedia.org (parse) Moderna\n"
     ]
    },
    {
     "name": "stdout",
     "output_type": "stream",
     "text": [
      "Wiki page could not be found for Beijing Institute of Biotechnology\n",
      "['AZN', 'n/a', 'n/a']\n",
      "[' nyse', 'n/a', 'n/a']\n",
      "Looking up Moderna\n"
     ]
    },
    {
     "name": "stderr",
     "output_type": "stream",
     "text": [
      "Moderna (en) data\n",
      "{\n",
      "  infobox: <dict(14)> name, logo, logo_size, type, traded_as, form...\n",
      "  iwlinks: <list(1)> https://de.wikipedia.org/wiki/BioNTech\n",
      "  pageid: 39743243\n",
      "  parsetree: <str(39249)> <root><template><title>short description...\n",
      "  requests: <list(1)> parse\n",
      "  title: Moderna\n",
      "  wikibase: Q17081612\n",
      "  wikidata_url: https://www.wikidata.org/wiki/Q17081612\n",
      "  wikitext: <str(30252)> {{short description|American biotechnolog...\n",
      "}\n",
      "en.wikipedia.org (parse) NIAID\n"
     ]
    },
    {
     "name": "stdout",
     "output_type": "stream",
     "text": [
      "['AZN', 'n/a', 'n/a', 'AZN']\n",
      "[' nyse', 'n/a', 'n/a', ' nyse']\n",
      "Looking up NIAID\n"
     ]
    },
    {
     "name": "stderr",
     "output_type": "stream",
     "text": [
      "National Institute of Allergy and Infectious Diseases (en) data\n",
      "{\n",
      "  infobox: <dict(16)> agency_name, type, logo, formed, preceding1,...\n",
      "  iwlinks: <list(1)> https://commons.wikimedia.org/wiki/Category:N...\n",
      "  pageid: 1013155\n",
      "  parsetree: <str(20772)> <root><template><title>short description...\n",
      "  requests: <list(1)> parse\n",
      "  title: National Institute of Allergy and Infectious Diseases\n",
      "  wikibase: Q3519875\n",
      "  wikidata_url: https://www.wikidata.org/wiki/Q3519875\n",
      "  wikitext: <str(15695)> {{short description|US federal research i...\n",
      "}\n",
      "en.wikipedia.org (parse) Wuhan Institute of Biological Products\n"
     ]
    },
    {
     "name": "stdout",
     "output_type": "stream",
     "text": [
      "Not a publicly traded company\n",
      "Wiki page could not be found for NIAID\n",
      "['AZN', 'n/a', 'n/a', 'AZN', 'n/a']\n",
      "[' nyse', 'n/a', 'n/a', ' nyse', 'n/a']\n",
      "Looking up Wuhan Institute of Biological Products\n"
     ]
    },
    {
     "name": "stderr",
     "output_type": "stream",
     "text": [
      "China National Pharmaceutical Group (en) data\n",
      "{\n",
      "  infobox: <dict(25)> name, trade_name, logo, logo_alt, logo_capti...\n",
      "  iwlinks: <list(1)> https://zh.wikipedia.org/wiki/%E4%B8%AD%E5%9C...\n",
      "  pageid: 24404098\n",
      "  parsetree: <str(12142)> <root><template><title>redirect</title><...\n",
      "  requests: <list(1)> parse\n",
      "  title: China National Pharmaceutical Group\n",
      "  wikibase: Q27892807\n",
      "  wikidata_url: https://www.wikidata.org/wiki/Q27892807\n",
      "  wikitext: <str(6201)> {{redirect|Sinopharm}}{{Infobox company| n...\n",
      "}\n",
      "en.wikipedia.org (parse) Sinopharm\n"
     ]
    },
    {
     "name": "stdout",
     "output_type": "stream",
     "text": [
      "Not a publicly traded company\n",
      "Wiki page could not be found for Wuhan Institute of Biological Products\n",
      "['AZN', 'n/a', 'n/a', 'AZN', 'n/a', 'n/a']\n",
      "[' nyse', 'n/a', 'n/a', ' nyse', 'n/a', 'n/a']\n",
      "Looking up Sinopharm\n"
     ]
    },
    {
     "name": "stderr",
     "output_type": "stream",
     "text": [
      "China National Pharmaceutical Group (en) data\n",
      "{\n",
      "  infobox: <dict(25)> name, trade_name, logo, logo_alt, logo_capti...\n",
      "  iwlinks: <list(1)> https://zh.wikipedia.org/wiki/%E4%B8%AD%E5%9C...\n",
      "  pageid: 24404098\n",
      "  parsetree: <str(12142)> <root><template><title>redirect</title><...\n",
      "  requests: <list(1)> parse\n",
      "  title: China National Pharmaceutical Group\n",
      "  wikibase: Q27892807\n",
      "  wikidata_url: https://www.wikidata.org/wiki/Q27892807\n",
      "  wikitext: <str(6201)> {{redirect|Sinopharm}}{{Infobox company| n...\n",
      "}\n",
      "en.wikipedia.org (parse) Beijing Institute of Biological Products\n",
      "API error: {'code': 'missingtitle', 'info': \"The page you specified doesn't exist.\", 'docref': 'See https://en.wikipedia.org/w/api.php for API usage. Subscribe to the mediawiki-api-announce mailing list at &lt;https://lists.wikimedia.org/mailman/listinfo/mediawiki-api-announce&gt; for notice of API deprecations and breaking changes.'}\n",
      "en.wikipedia.org (parse) Sinopharm\n"
     ]
    },
    {
     "name": "stdout",
     "output_type": "stream",
     "text": [
      "Not a publicly traded company\n",
      "Wiki page could not be found for Sinopharm\n",
      "['AZN', 'n/a', 'n/a', 'AZN', 'n/a', 'n/a', 'n/a']\n",
      "[' nyse', 'n/a', 'n/a', ' nyse', 'n/a', 'n/a', 'n/a']\n",
      "Looking up Beijing Institute of Biological Products\n",
      "Wiki page could not be found for Beijing Institute of Biological Products\n",
      "['AZN', 'n/a', 'n/a', 'AZN', 'n/a', 'n/a', 'n/a', 'n/a']\n",
      "[' nyse', 'n/a', 'n/a', ' nyse', 'n/a', 'n/a', 'n/a', 'n/a']\n",
      "Looking up Sinopharm\n"
     ]
    },
    {
     "name": "stderr",
     "output_type": "stream",
     "text": [
      "China National Pharmaceutical Group (en) data\n",
      "{\n",
      "  infobox: <dict(25)> name, trade_name, logo, logo_alt, logo_capti...\n",
      "  iwlinks: <list(1)> https://zh.wikipedia.org/wiki/%E4%B8%AD%E5%9C...\n",
      "  pageid: 24404098\n",
      "  parsetree: <str(12142)> <root><template><title>redirect</title><...\n",
      "  requests: <list(1)> parse\n",
      "  title: China National Pharmaceutical Group\n",
      "  wikibase: Q27892807\n",
      "  wikidata_url: https://www.wikidata.org/wiki/Q27892807\n",
      "  wikitext: <str(6201)> {{redirect|Sinopharm}}{{Infobox company| n...\n",
      "}\n",
      "en.wikipedia.org (parse) Sinovac\n"
     ]
    },
    {
     "name": "stdout",
     "output_type": "stream",
     "text": [
      "Not a publicly traded company\n",
      "Wiki page could not be found for Sinopharm\n",
      "['AZN', 'n/a', 'n/a', 'AZN', 'n/a', 'n/a', 'n/a', 'n/a', 'n/a']\n",
      "[' nyse', 'n/a', 'n/a', ' nyse', 'n/a', 'n/a', 'n/a', 'n/a', 'n/a']\n",
      "Looking up Sinovac\n"
     ]
    },
    {
     "name": "stderr",
     "output_type": "stream",
     "text": [
      "Sinovac Biotech (en) data\n",
      "{\n",
      "  infobox: <dict(6)> name, logo, foundation, location_city, locati...\n",
      "  pageid: 20104338\n",
      "  parsetree: <str(5465)> <root><template><title>Infobox company</t...\n",
      "  requests: <list(1)> parse\n",
      "  title: Sinovac Biotech\n",
      "  wikibase: Q3485048\n",
      "  wikidata_url: https://www.wikidata.org/wiki/Q3485048\n",
      "  wikitext: <str(2646)> {{Infobox company| name             = Sino...\n",
      "}\n",
      "en.wikipedia.org (parse) Novavax\n"
     ]
    },
    {
     "name": "stdout",
     "output_type": "stream",
     "text": [
      "Not a publicly traded company\n",
      "Wiki page could not be found for Sinovac\n",
      "['AZN', 'n/a', 'n/a', 'AZN', 'n/a', 'n/a', 'n/a', 'n/a', 'n/a', 'n/a']\n",
      "[' nyse', 'n/a', 'n/a', ' nyse', 'n/a', 'n/a', 'n/a', 'n/a', 'n/a', 'n/a']\n",
      "Looking up Novavax\n"
     ]
    },
    {
     "name": "stderr",
     "output_type": "stream",
     "text": [
      "Novavax (en) data\n",
      "{\n",
      "  infobox: <dict(12)> name, logo, type, traded_as, area_served, in...\n",
      "  pageid: 42631881\n",
      "  parsetree: <str(16709)> <root><template><title>short description...\n",
      "  requests: <list(1)> parse\n",
      "  title: Novavax\n",
      "  wikibase: Q17072200\n",
      "  wikidata_url: https://www.wikidata.org/wiki/Q17072200\n",
      "  wikitext: <str(12205)> {{short description|Swedish clinical-stag...\n",
      "}\n",
      "en.wikipedia.org (parse) BioNTech\n",
      "API error: {'code': 'missingtitle', 'info': \"The page you specified doesn't exist.\", 'docref': 'See https://en.wikipedia.org/w/api.php for API usage. Subscribe to the mediawiki-api-announce mailing list at &lt;https://lists.wikimedia.org/mailman/listinfo/mediawiki-api-announce&gt; for notice of API deprecations and breaking changes.'}\n",
      "en.wikipedia.org (parse) Fosun Pharma\n"
     ]
    },
    {
     "name": "stdout",
     "output_type": "stream",
     "text": [
      "['AZN', 'n/a', 'n/a', 'AZN', 'n/a', 'n/a', 'n/a', 'n/a', 'n/a', 'n/a', 'AZN']\n",
      "[' nyse', 'n/a', 'n/a', ' nyse', 'n/a', 'n/a', 'n/a', 'n/a', 'n/a', 'n/a', ' nyse']\n",
      "Looking up BioNTech\n",
      "Wiki page could not be found for BioNTech\n",
      "['AZN', 'n/a', 'n/a', 'AZN', 'n/a', 'n/a', 'n/a', 'n/a', 'n/a', 'n/a', 'AZN', 'n/a']\n",
      "[' nyse', 'n/a', 'n/a', ' nyse', 'n/a', 'n/a', 'n/a', 'n/a', 'n/a', 'n/a', ' nyse', 'n/a']\n",
      "Looking up Fosun Pharma\n"
     ]
    },
    {
     "name": "stderr",
     "output_type": "stream",
     "text": [
      "Fosun Pharmaceutical (en) data\n",
      "{\n",
      "  infobox: <dict(23)> name, logo, type, traded_as, industry, found...\n",
      "  pageid: 58045046\n",
      "  parsetree: <str(25935)> <root><template><title>distinguish</titl...\n",
      "  requests: <list(1)> parse\n",
      "  title: Fosun Pharmaceutical\n",
      "  wikibase: Q11071241\n",
      "  wikidata_url: https://www.wikidata.org/wiki/Q11071241\n",
      "  wikitext: <str(15116)> {{distinguish|Shanghai Pharmaceuticals Ho...\n",
      "}\n",
      "en.wikipedia.org (parse) Pfizer\n"
     ]
    },
    {
     "name": "stdout",
     "output_type": "stream",
     "text": [
      "['AZN', 'n/a', 'n/a', 'AZN', 'n/a', 'n/a', 'n/a', 'n/a', 'n/a', 'n/a', 'AZN', 'n/a', 'AZN']\n",
      "[' nyse', 'n/a', 'n/a', ' nyse', 'n/a', 'n/a', 'n/a', 'n/a', 'n/a', 'n/a', ' nyse', 'n/a', ' nyse']\n",
      "Looking up Pfizer\n"
     ]
    },
    {
     "name": "stderr",
     "output_type": "stream",
     "text": [
      "en.wikipedia.org (imageinfo) File:Pfizerworldheadquartersentrance.jpg\n",
      "Pfizer (en) data\n",
      "{\n",
      "  image: <list(1)> {'kind': 'parse-image', 'file': 'File:Pfizerwor...\n",
      "  infobox: <dict(22)> name, logo, logo_size, image, image_size, im...\n",
      "  iwlinks: <list(1)> https://commons.wikimedia.org/wiki/Category:Pfizer\n",
      "  pageid: 62304\n",
      "  parsetree: <str(126254)> <root><template><title>short descriptio...\n",
      "  requests: <list(2)> parse, imageinfo\n",
      "  title: Pfizer\n",
      "  wikibase: Q206921\n",
      "  wikidata_url: https://www.wikidata.org/wiki/Q206921\n",
      "  wikitext: <str(104724)> {{short description|American multination...\n",
      "}\n",
      "en.wikipedia.org (parse) Inovio Pharmaceuticals\n"
     ]
    },
    {
     "name": "stdout",
     "output_type": "stream",
     "text": [
      "['AZN', 'n/a', 'n/a', 'AZN', 'n/a', 'n/a', 'n/a', 'n/a', 'n/a', 'n/a', 'AZN', 'n/a', 'AZN', 'AZN']\n",
      "[' nyse', 'n/a', 'n/a', ' nyse', 'n/a', 'n/a', 'n/a', 'n/a', 'n/a', 'n/a', ' nyse', 'n/a', ' nyse', ' nyse']\n",
      "Looking up Inovio Pharmaceuticals\n"
     ]
    },
    {
     "name": "stderr",
     "output_type": "stream",
     "text": [
      "Inovio Pharmaceuticals (en) data\n",
      "{\n",
      "  infobox: <dict(9)> logo, name, type, traded_as, foundation, loca...\n",
      "  pageid: 63134139\n",
      "  parsetree: <str(15833)> <root><template><title>short description...\n",
      "  requests: <list(1)> parse\n",
      "  title: Inovio Pharmaceuticals\n",
      "  wikibase: Q30283331\n",
      "  wikidata_url: https://www.wikidata.org/wiki/Q30283331\n",
      "  wikitext: <str(12154)> {{short description|American biotechnolog...\n",
      "}\n",
      "en.wikipedia.org (parse) Genexine Consortium\n",
      "API error: {'code': 'missingtitle', 'info': \"The page you specified doesn't exist.\", 'docref': 'See https://en.wikipedia.org/w/api.php for API usage. Subscribe to the mediawiki-api-announce mailing list at &lt;https://lists.wikimedia.org/mailman/listinfo/mediawiki-api-announce&gt; for notice of API deprecations and breaking changes.'}\n",
      "en.wikipedia.org (parse) Gamaleya Research Institute\n"
     ]
    },
    {
     "name": "stdout",
     "output_type": "stream",
     "text": [
      "['AZN', 'n/a', 'n/a', 'AZN', 'n/a', 'n/a', 'n/a', 'n/a', 'n/a', 'n/a', 'AZN', 'n/a', 'AZN', 'AZN', 'AZN']\n",
      "[' nyse', 'n/a', 'n/a', ' nyse', 'n/a', 'n/a', 'n/a', 'n/a', 'n/a', 'n/a', ' nyse', 'n/a', ' nyse', ' nyse', ' nyse']\n",
      "Looking up Genexine Consortium\n",
      "Wiki page could not be found for Genexine Consortium\n",
      "['AZN', 'n/a', 'n/a', 'AZN', 'n/a', 'n/a', 'n/a', 'n/a', 'n/a', 'n/a', 'AZN', 'n/a', 'AZN', 'AZN', 'AZN', 'n/a']\n",
      "[' nyse', 'n/a', 'n/a', ' nyse', 'n/a', 'n/a', 'n/a', 'n/a', 'n/a', 'n/a', ' nyse', 'n/a', ' nyse', ' nyse', ' nyse', 'n/a']\n",
      "Looking up Gamaleya Research Institute\n"
     ]
    },
    {
     "name": "stderr",
     "output_type": "stream",
     "text": [
      "API error: {'code': 'missingtitle', 'info': \"The page you specified doesn't exist.\", 'docref': 'See https://en.wikipedia.org/w/api.php for API usage. Subscribe to the mediawiki-api-announce mailing list at &lt;https://lists.wikimedia.org/mailman/listinfo/mediawiki-api-announce&gt; for notice of API deprecations and breaking changes.'}\n",
      "en.wikipedia.org (parse) Clover Biopharmaceuticals Inc.\n",
      "API error: {'code': 'missingtitle', 'info': \"The page you specified doesn't exist.\", 'docref': 'See https://en.wikipedia.org/w/api.php for API usage. Subscribe to the mediawiki-api-announce mailing list at &lt;https://lists.wikimedia.org/mailman/listinfo/mediawiki-api-announce&gt; for notice of API deprecations and breaking changes.'}\n",
      "en.wikipedia.org (parse) GSK\n"
     ]
    },
    {
     "name": "stdout",
     "output_type": "stream",
     "text": [
      "Wiki page could not be found for Gamaleya Research Institute\n",
      "['AZN', 'n/a', 'n/a', 'AZN', 'n/a', 'n/a', 'n/a', 'n/a', 'n/a', 'n/a', 'AZN', 'n/a', 'AZN', 'AZN', 'AZN', 'n/a', 'n/a']\n",
      "[' nyse', 'n/a', 'n/a', ' nyse', 'n/a', 'n/a', 'n/a', 'n/a', 'n/a', 'n/a', ' nyse', 'n/a', ' nyse', ' nyse', ' nyse', 'n/a', 'n/a']\n",
      "Looking up Clover Biopharmaceuticals Inc.\n",
      "Wiki page could not be found for Clover Biopharmaceuticals Inc.\n",
      "['AZN', 'n/a', 'n/a', 'AZN', 'n/a', 'n/a', 'n/a', 'n/a', 'n/a', 'n/a', 'AZN', 'n/a', 'AZN', 'AZN', 'AZN', 'n/a', 'n/a', 'n/a']\n",
      "[' nyse', 'n/a', 'n/a', ' nyse', 'n/a', 'n/a', 'n/a', 'n/a', 'n/a', 'n/a', ' nyse', 'n/a', ' nyse', ' nyse', ' nyse', 'n/a', 'n/a', 'n/a']\n",
      "Looking up GSK\n"
     ]
    },
    {
     "name": "stderr",
     "output_type": "stream",
     "text": [
      "GSK (en) data\n",
      "{\n",
      "  pageid: 1557420\n",
      "  parsetree: <str(373)> <root>'''GSK''' may refer to:*[[Galatasara...\n",
      "  requests: <list(1)> parse\n",
      "  title: GSK\n",
      "  wikibase: Q346413\n",
      "  wikidata_url: https://www.wikidata.org/wiki/Q346413\n",
      "  wikitext: <str(314)> '''GSK''' may refer to:*[[Galatasaray S.K.]...\n",
      "}\n",
      "en.wikipedia.org (parse) Dynavax\n",
      "API error: {'code': 'missingtitle', 'info': \"The page you specified doesn't exist.\", 'docref': 'See https://en.wikipedia.org/w/api.php for API usage. Subscribe to the mediawiki-api-announce mailing list at &lt;https://lists.wikimedia.org/mailman/listinfo/mediawiki-api-announce&gt; for notice of API deprecations and breaking changes.'}\n",
      "en.wikipedia.org (parse) Anhui Zhifei Longcom Biopharmaceutical\n"
     ]
    },
    {
     "name": "stdout",
     "output_type": "stream",
     "text": [
      "Not a publicly traded company\n",
      "Wiki page could not be found for GSK\n",
      "['AZN', 'n/a', 'n/a', 'AZN', 'n/a', 'n/a', 'n/a', 'n/a', 'n/a', 'n/a', 'AZN', 'n/a', 'AZN', 'AZN', 'AZN', 'n/a', 'n/a', 'n/a', 'n/a']\n",
      "[' nyse', 'n/a', 'n/a', ' nyse', 'n/a', 'n/a', 'n/a', 'n/a', 'n/a', 'n/a', ' nyse', 'n/a', ' nyse', ' nyse', ' nyse', 'n/a', 'n/a', 'n/a', 'n/a']\n",
      "Looking up Dynavax\n",
      "Wiki page could not be found for Dynavax\n",
      "['AZN', 'n/a', 'n/a', 'AZN', 'n/a', 'n/a', 'n/a', 'n/a', 'n/a', 'n/a', 'AZN', 'n/a', 'AZN', 'AZN', 'AZN', 'n/a', 'n/a', 'n/a', 'n/a', 'n/a']\n",
      "[' nyse', 'n/a', 'n/a', ' nyse', 'n/a', 'n/a', 'n/a', 'n/a', 'n/a', 'n/a', ' nyse', 'n/a', ' nyse', ' nyse', ' nyse', 'n/a', 'n/a', 'n/a', 'n/a', 'n/a']\n",
      "Looking up Anhui Zhifei Longcom Biopharmaceutical\n"
     ]
    },
    {
     "name": "stderr",
     "output_type": "stream",
     "text": [
      "API error: {'code': 'missingtitle', 'info': \"The page you specified doesn't exist.\", 'docref': 'See https://en.wikipedia.org/w/api.php for API usage. Subscribe to the mediawiki-api-announce mailing list at &lt;https://lists.wikimedia.org/mailman/listinfo/mediawiki-api-announce&gt; for notice of API deprecations and breaking changes.'}\n",
      "en.wikipedia.org (parse) Curevac\n"
     ]
    },
    {
     "name": "stdout",
     "output_type": "stream",
     "text": [
      "Wiki page could not be found for Anhui Zhifei Longcom Biopharmaceutical\n",
      "['AZN', 'n/a', 'n/a', 'AZN', 'n/a', 'n/a', 'n/a', 'n/a', 'n/a', 'n/a', 'AZN', 'n/a', 'AZN', 'AZN', 'AZN', 'n/a', 'n/a', 'n/a', 'n/a', 'n/a', 'n/a']\n",
      "[' nyse', 'n/a', 'n/a', ' nyse', 'n/a', 'n/a', 'n/a', 'n/a', 'n/a', 'n/a', ' nyse', 'n/a', ' nyse', ' nyse', ' nyse', 'n/a', 'n/a', 'n/a', 'n/a', 'n/a', 'n/a']\n",
      "Looking up Curevac\n",
      "Not a publicly traded company\n",
      "Wiki page could not be found for Curevac\n",
      "['AZN', 'n/a', 'n/a', 'AZN', 'n/a', 'n/a', 'n/a', 'n/a', 'n/a', 'n/a', 'AZN', 'n/a', 'AZN', 'AZN', 'AZN', 'n/a', 'n/a', 'n/a', 'n/a', 'n/a', 'n/a', 'n/a']\n",
      "[' nyse', 'n/a', 'n/a', ' nyse', 'n/a', 'n/a', 'n/a', 'n/a', 'n/a', 'n/a', ' nyse', 'n/a', ' nyse', ' nyse', ' nyse', 'n/a', 'n/a', 'n/a', 'n/a', 'n/a', 'n/a', 'n/a']\n",
      "Looking up Walvax Biotech.\n",
      "Wiki page could not be found for Walvax Biotech.\n",
      "['AZN', 'n/a', 'n/a', 'AZN', 'n/a', 'n/a', 'n/a', 'n/a', 'n/a', 'n/a', 'AZN', 'n/a', 'AZN', 'AZN', 'AZN', 'n/a', 'n/a', 'n/a', 'n/a', 'n/a', 'n/a', 'n/a', 'n/a']\n",
      "[' nyse', 'n/a', 'n/a', ' nyse', 'n/a', 'n/a', 'n/a', 'n/a', 'n/a', 'n/a', ' nyse', 'n/a', ' nyse', ' nyse', ' nyse', 'n/a', 'n/a', 'n/a', 'n/a', 'n/a', 'n/a', 'n/a', 'n/a']\n"
     ]
    },
    {
     "name": "stderr",
     "output_type": "stream",
     "text": [
      "CureVac (en) data\n",
      "{\n",
      "  infobox: <dict(11)> name, logo, type, founded, founders, locatio...\n",
      "  iwlinks: <list(2)> https://commons.wikimedia.org/wiki/Category:C...\n",
      "  pageid: 39161114\n",
      "  parsetree: <str(15906)> <root><template><title>short description...\n",
      "  requests: <list(1)> parse\n",
      "  title: CureVac\n",
      "  wikibase: Q1144473\n",
      "  wikidata_url: https://www.wikidata.org/wiki/Q1144473\n",
      "  wikitext: <str(12368)> {{short description|German bio-pharmaceut...\n",
      "}\n",
      "en.wikipedia.org (parse) Walvax Biotech.\n",
      "API error: {'code': 'missingtitle', 'info': \"The page you specified doesn't exist.\", 'docref': 'See https://en.wikipedia.org/w/api.php for API usage. Subscribe to the mediawiki-api-announce mailing list at &lt;https://lists.wikimedia.org/mailman/listinfo/mediawiki-api-announce&gt; for notice of API deprecations and breaking changes.'}\n"
     ]
    }
   ],
   "source": [
    "import wptools\n",
    "\n",
    "def get_stock_info(page):\n",
    "    try:\n",
    "        stocks = page.data['infobox']['traded_as']\n",
    "        stocks = stock.replace('{', '').replace('}', '').split('<br />')\n",
    "\n",
    "    except:\n",
    "        print('Not a publicly traded company')\n",
    "        stocks = 'n/a'\n",
    "        \n",
    "    finally:\n",
    "        return stocks\n",
    "\n",
    "\n",
    "def check_am_mkts(stocks):\n",
    "    am_mkts = ['NYSE|', 'NASDAQ|', 'AMEX|', 'BSE|', 'CBOE|', 'CBOT|', 'CME|', 'CHX|', 'ISE|', 'MS4X|', 'NSX|', 'PHLX|']\n",
    "    tf_array = []\n",
    "    \n",
    "    for stock in stocks:\n",
    "        tf = any(map(stock.upper().__contains__, am_mkts))\n",
    "        tf_array.append(tf)\n",
    "        \n",
    "    return tf_array\n",
    "   \n",
    "\n",
    "def get_stock_symbol(stocks):\n",
    "    if stocks[0] == 'n/a':\n",
    "        return stock\n",
    "    \n",
    "    tf_array = check_am_mkts(stocks)\n",
    "    \n",
    "    exchange = stocks[0].split('|')[0]\n",
    "    stock = stocks[0].split('|')[1]\n",
    "    \n",
    "    for i, tf in enumerate(tf_array):\n",
    "        if tf:\n",
    "            exchange = stocks[i].split('|')[0]\n",
    "            stock = stocks[i].split('|')[1]\n",
    "            \n",
    "    stock = stock.replace(' ', '').upper()\n",
    "    \n",
    "    return stock, exchange\n",
    "    \n",
    "# def get_location(page):\n",
    "#     try:\n",
    "#         location = page.data['infobox']['location']\n",
    "#         print(location)\n",
    "\n",
    "symbols = []\n",
    "exchanges = []\n",
    "\n",
    "for company in companies:\n",
    "    print(f'Looking up {company}')\n",
    "    \n",
    "    try:\n",
    "        page = wptools.page(company).get_parse()\n",
    "        stocks = get_stock_info(page)\n",
    "        symbol, exchange = get_stock_symbol(stocks)\n",
    "\n",
    "        symbols.append(symbol)\n",
    "        exchanges.append(exchange)\n",
    "    except:\n",
    "        print(f'Wiki page could not be found for {company}')\n",
    "        symbols.append('n/a')\n",
    "        exchanges.append('n/a')\n",
    "        \n",
    "    print(symbols)\n",
    "    print(exchanges)\n",
    "\n"
   ]
  },
  {
   "cell_type": "markdown",
   "metadata": {},
   "source": [
    "### Using Yahoo! Finance Approach"
   ]
  },
  {
   "cell_type": "code",
   "execution_count": null,
   "metadata": {},
   "outputs": [],
   "source": []
  },
  {
   "cell_type": "markdown",
   "metadata": {},
   "source": [
    "## Get market value\n",
    "\n",
    "Market value or market cap can be pulled using the pandas_datareader module\n",
    "Examples with Apple, Amazon, Tesla, and Google seen below (output is in dollars)\n",
    "\n",
    "```python\n",
    "from pandas_datareader import data\n",
    "tickers = ['AAPL','AMZN','TSLA','GOOG']\n",
    "data.get_quote_yahoo(tickers)['marketCap']\n",
    "```\n",
    "\n",
    "Stackoverflow link: https://stackoverflow.com/questions/54815864/downloading-a-companies-market-cap-from-yahoo"
   ]
  }
 ],
 "metadata": {
  "kernelspec": {
   "display_name": "Python 3",
   "language": "python",
   "name": "python3"
  },
  "language_info": {
   "codemirror_mode": {
    "name": "ipython",
    "version": 3
   },
   "file_extension": ".py",
   "mimetype": "text/x-python",
   "name": "python",
   "nbconvert_exporter": "python",
   "pygments_lexer": "ipython3",
   "version": "3.8.2"
  }
 },
 "nbformat": 4,
 "nbformat_minor": 4
}
