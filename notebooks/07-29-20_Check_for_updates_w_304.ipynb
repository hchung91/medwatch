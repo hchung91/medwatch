{
 "cells": [
  {
   "cell_type": "code",
   "execution_count": 14,
   "metadata": {},
   "outputs": [
    {
     "name": "stdout",
     "output_type": "stream",
     "text": [
      "The autoreload extension is already loaded. To reload it, use:\n",
      "  %reload_ext autoreload\n"
     ]
    }
   ],
   "source": [
    "%load_ext autoreload\n",
    "%autoreload 2\n",
    "\n",
    "import requests\n",
    "import calendar\n",
    "from datetime import datetime, timedelta"
   ]
  },
  {
   "cell_type": "code",
   "execution_count": 62,
   "metadata": {},
   "outputs": [],
   "source": [
    "def time_ago(delta, units = 'minutes'):\n",
    "    if units == 'seconds':\n",
    "        delta = timedelta(seconds = delta)\n",
    "    elif units == 'minutes':\n",
    "        delta = timedelta(minutes = delta)\n",
    "    elif units == 'hours':\n",
    "        delta = timedelta(hours = delta)\n",
    "    elif units == 'days':\n",
    "        delta = timedelta(days = delta)\n",
    "    \n",
    "    time_past = datetime.utcnow()-delta\n",
    "    time_past = time_past.strftime('%a, %d %b %Y %H:%M:%S GMT')\n",
    "    \n",
    "    return time_past"
   ]
  },
  {
   "cell_type": "code",
   "execution_count": 60,
   "metadata": {},
   "outputs": [
    {
     "data": {
      "text/plain": [
       "'Thu, 30 Jul 2020 03:32:36 GMT'"
      ]
     },
     "execution_count": 60,
     "metadata": {},
     "output_type": "execute_result"
    }
   ],
   "source": [
    "t = calendar.day_name[datetime.today().weekday()]\n",
    "t = datetime.utcnow()\n",
    "t.strftime('%a, %d %b %Y %H:%M:%S GMT')\n",
    "#print(t)"
   ]
  },
  {
   "cell_type": "code",
   "execution_count": 82,
   "metadata": {},
   "outputs": [
    {
     "name": "stdout",
     "output_type": "stream",
     "text": [
      "{'If-Modified-Since': 'Wed, 29 Jul 2020 17:41:58 GMT'}\n",
      "200\n"
     ]
    }
   ],
   "source": [
    "t = time_ago(10, 'hours')\n",
    "# print(t)\n",
    "headers = {\"If-Modified-Since\": t}#, \"User-Agent\": \"Mozilla/5.0 (Macintosh; Intel Mac OS X 10_11_5) AppleWebKit/537.36 (KHTML, like Gecko) Chrome/50.0.2661.102 Safari/537.36\"}\n",
    "r = requests.head('https://www.astrazeneca.com/media-centre/press-releases.html', headers=headers)\n",
    "print(headers)\n",
    "print(r.status_code)"
   ]
  },
  {
   "cell_type": "code",
   "execution_count": null,
   "metadata": {},
   "outputs": [],
   "source": []
  }
 ],
 "metadata": {
  "kernelspec": {
   "display_name": "Python 3",
   "language": "python",
   "name": "python3"
  },
  "language_info": {
   "codemirror_mode": {
    "name": "ipython",
    "version": 3
   },
   "file_extension": ".py",
   "mimetype": "text/x-python",
   "name": "python",
   "nbconvert_exporter": "python",
   "pygments_lexer": "ipython3",
   "version": "3.8.2"
  }
 },
 "nbformat": 4,
 "nbformat_minor": 4
}
