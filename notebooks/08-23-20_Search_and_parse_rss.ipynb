{
 "cells": [
  {
   "cell_type": "markdown",
   "metadata": {},
   "source": [
    "# Default to look for RSS feed\n",
    "First brought to attention when realized that Pfizer's press release page is .aspx and the links cannot be pulled from a simple requests.get command. Still looking into how to scrape that directly but in the meantime, RSS is a reliable way (if available) to check for updates (often with even more metadata). "
   ]
  },
  {
   "cell_type": "code",
   "execution_count": 1,
   "metadata": {},
   "outputs": [
    {
     "name": "stderr",
     "output_type": "stream",
     "text": [
      "/Users/hugh/.pyenv/versions/3.8.2/lib/python3.8/site-packages/pandas_datareader/compat/__init__.py:7: FutureWarning: pandas.util.testing is deprecated. Use the functions in the public API at pandas.testing instead.\n",
      "  from pandas.util.testing import assert_frame_equal\n"
     ]
    }
   ],
   "source": [
    "%load_ext autoreload\n",
    "%autoreload 2\n",
    "\n",
    "import requests\n",
    "from urllib.parse import urljoin\n",
    "from bs4 import BeautifulSoup\n",
    "\n",
    "import sys\n",
    "sys.path.append(\"../python/\")\n",
    "\n",
    "import medwatch as mw"
   ]
  },
  {
   "cell_type": "code",
   "execution_count": 46,
   "metadata": {},
   "outputs": [],
   "source": [
    "def is_scrapable(url):\n",
    "    # Checks if url is scrapable. For now, we know that .aspx is not\n",
    "    if url[-4:]=='aspx':\n",
    "        return False\n",
    "    \n",
    "    \n",
    "def search4rss(url):\n",
    "    r = requests.get(url)\n",
    "    page = r.text\n",
    "    page = ' '.join(page.split())\n",
    "    soup = BeautifulSoup(page, \"html.parser\")\n",
    "    \n",
    "    anchors = mw.get_anchors(soup)\n",
    "    \n",
    "    rss_anchors, keywords = mw.check_for_keywords(anchors, keywords=['rss'], keywords_ignore=[])\n",
    "    \n",
    "    return rss_anchors"
   ]
  },
  {
   "cell_type": "code",
   "execution_count": 47,
   "metadata": {},
   "outputs": [
    {
     "name": "stdout",
     "output_type": "stream",
     "text": [
      "False\n",
      "Match because of following keywords: ['rss']\n",
      "[<a class=\"RssLinkTop\" href=\"/rss/pressrelease.aspx\" target=\"_blank\"> <i aria-hidden=\"true\" class=\"q4i-icon-rss\"></i> <span class=\"sr-only\">Press Release Feed (opens in new window)</span> </a>]\n",
      "https://investors.pfizer.com/rss/pressrelease.aspx\n"
     ]
    }
   ],
   "source": [
    "url = 'https://investors.pfizer.com/investor-news/default.aspx'\n",
    "\n",
    "print(is_scrapable(url))\n",
    "\n",
    "rss_anchors = search4rss(url)\n",
    "print(rss_anchors)\n",
    "href, _ = mw.parse_anchors(rss_anchors)\n",
    "href = str(href[0])\n",
    "rss_url = urljoin(url, str(href))\n",
    "print(rss_url)"
   ]
  },
  {
   "cell_type": "code",
   "execution_count": 44,
   "metadata": {},
   "outputs": [
    {
     "name": "stdout",
     "output_type": "stream",
     "text": [
      "https://investors.pfizer.com/\n",
      "https://investors.pfizer.com/investor-news/press-release-details/2020/Pfizer-and-BioNTech-Share-Positive-Early-Data-on-Lead-mRNA-Vaccine-Candidate-BNT162b2-Against-COVID-19/default.aspx\n",
      "https://investors.pfizer.com/investor-news/press-release-details/2020/Pfizer-Announces-Agreement-with-Gilead-to-Manufacture-Remdesivir-for-Treatment-of-COVID-19/default.aspx\n",
      "https://investors.pfizer.com/investor-news/press-release-details/2020/Pfizer-Announces-Times-for-Rescheduled-Virtual-Investor-Day-on-September-14-and-September-15-2020/default.aspx\n",
      "https://investors.pfizer.com/investor-news/press-release-details/2020/LORBRENA-lorlatinib-Significantly-Improves-Progression-Free-Survival-in-First-Line-ALK-Positive-Lung-Cancer/default.aspx\n",
      "https://investors.pfizer.com/investor-news/press-release-details/2020/Pfizer-and-BioNTech-to-Supply-Canada-with-their-BNT162-mRNA--Based-Vaccine-Candidate/default.aspx\n",
      "https://investors.pfizer.com/investor-news/press-release-details/2020/Pfizer-and-BioNTech-to-Supply-Japan-with-120-Million-Doses-of-their-BNT162-mRNA-based-Vaccine-Candidate/default.aspx\n",
      "https://investors.pfizer.com/investor-news/press-release-details/2020/Pfizer-Reports-Second-Quarter-2020-Results/default.aspx\n",
      "https://investors.pfizer.com/investor-news/press-release-details/2020/Pfizer-and-BioNTech-Choose-Lead-mRNA-Vaccine-Candidate-Against-COVID-19-and-Commence-Pivotal-Phase-23-Global-Study/default.aspx\n",
      "https://investors.pfizer.com/investor-news/press-release-details/2020/Pfizer-and-BioNTech-Announce-an-Agreement-with-U.S.-Government-for-up-to-600-Million-Doses-of-mRNA-based-Vaccine-Candidate-Against-SARS-CoV-2/default.aspx\n",
      "https://investors.pfizer.com/investor-news/press-release-details/2020/Pfizer-and-BioNTech-Announce-Early-Positive-Update-from-German-Phase-12-COVID-19-Vaccine-Study-Including-First-T-Cell-Response-Data/default.aspx\n"
     ]
    }
   ],
   "source": [
    "r = requests.get(rss_url)\n",
    "# print(r.text)\n",
    "soup = BeautifulSoup(r.text, 'xml') # Make sure it's xml and not html.parser\n",
    "links = soup.find_all('link')\n",
    "\n",
    "for link in links:\n",
    "    print(link.text)"
   ]
  }
 ],
 "metadata": {
  "kernelspec": {
   "display_name": "Python 3",
   "language": "python",
   "name": "python3"
  },
  "language_info": {
   "codemirror_mode": {
    "name": "ipython",
    "version": 3
   },
   "file_extension": ".py",
   "mimetype": "text/x-python",
   "name": "python",
   "nbconvert_exporter": "python",
   "pygments_lexer": "ipython3",
   "version": "3.8.2"
  }
 },
 "nbformat": 4,
 "nbformat_minor": 4
}
