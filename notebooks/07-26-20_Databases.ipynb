{
 "cells": [
  {
   "cell_type": "code",
   "execution_count": 12,
   "metadata": {},
   "outputs": [
    {
     "name": "stdout",
     "output_type": "stream",
     "text": [
      "The autoreload extension is already loaded. To reload it, use:\n",
      "  %reload_ext autoreload\n"
     ]
    }
   ],
   "source": [
    "%load_ext autoreload\n",
    "%autoreload 2\n",
    "\n",
    "# Had issues pip installing psycopg2\n",
    "# Run following command to resolve:\n",
    "# env LDFLAGS=\"-I/usr/local/opt/openssl/include -L/usr/local/opt/openssl/lib\" pip install psycopg2\n",
    "# ref: https://stackoverflow.com/questions/39767810/cant-install-psycopg2-package-through-pip-install-is-this-because-of-sierra\n",
    "import psycopg2\n",
    "from psycopg2 import OperationalError"
   ]
  },
  {
   "cell_type": "code",
   "execution_count": 13,
   "metadata": {},
   "outputs": [],
   "source": [
    "def create_connection(\n",
    "    db_name, db_user, db_password, \n",
    "    db_host, db_port):\n",
    "    \n",
    "    connection = None\n",
    "    \n",
    "    try:\n",
    "        connection = psycopg2.connect(\n",
    "            database=db_name,\n",
    "            user=db_user,\n",
    "            password=db_password,\n",
    "            host=db_host,\n",
    "            port=db_port\n",
    "        )\n",
    "        print(\"Connection to PostgreSQL DB successful\")\n",
    "    except OperationalError as e:\n",
    "        print(f\"The error '{e}' occurred\")\n",
    "    \n",
    "    return connection\n",
    "\n",
    "def create_database(connection, db_name):\n",
    "    query = f\"CREATE DATABASE {db_name}\"\n",
    "    connection.autocommit = True\n",
    "    cursor = connection.cursor()\n",
    "    try:\n",
    "        cursor.execute(query)\n",
    "        print(\"Query executed successfully\")\n",
    "    except OperationalError as e:\n",
    "        print(f\"The error '{e}' occurred\")\n",
    "\n",
    "def execute_query(connection, query):\n",
    "    connection.autocommit = True\n",
    "    cursor = connection.cursor()\n",
    "    try:\n",
    "        cursor.execute(query)\n",
    "        print(\"Query executed succesfully\")\n",
    "    except OperationalError as e:\n",
    "        print(f\"The error '{e}' occurred\")"
   ]
  },
  {
   "cell_type": "code",
   "execution_count": 26,
   "metadata": {},
   "outputs": [
    {
     "name": "stdout",
     "output_type": "stream",
     "text": [
      "Password:\n",
      "Connection to PostgreSQL DB successful\n"
     ]
    }
   ],
   "source": [
    "pw = input(\"Password:\")\n",
    "connection = create_connection(\n",
    "    \"medwatch\", \"postgres\", pw, \"127.0.0.1\", \"5432\"\n",
    ")\n",
    "\n",
    "# create_database(connection, 'medwatch')\n"
   ]
  },
  {
   "cell_type": "code",
   "execution_count": 27,
   "metadata": {},
   "outputs": [
    {
     "name": "stdout",
     "output_type": "stream",
     "text": [
      "Query executed succesfully\n"
     ]
    }
   ],
   "source": [
    "create_companies_table = \"\"\"\n",
    "CREATE TABLE IF NOT EXISTS companies (\n",
    "  company TEXT,\n",
    "  company_yahoo TEXT,\n",
    "  symbol TEXT,\n",
    "  exchange TEXT, \n",
    "  market_cap INTEGER,\n",
    "  company_size TEXT,\n",
    "  is_american BOOL,\n",
    "  url_home TEXT,\n",
    "  url_pr TEXT\n",
    ")\n",
    "\"\"\"\n",
    "\n",
    "execute_query(connection, create_companies_table)"
   ]
  },
  {
   "cell_type": "code",
   "execution_count": 28,
   "metadata": {},
   "outputs": [],
   "source": [
    "entry = [\n",
    "    (\"AstraZeneca\", \"AstraZeneca PLC\", \"AZN\", \"NYSE\", 139802, \"large\", True, \"http://www.astrazeneca.com\", \"https://www.astrazeneca.com/media-centre/press-releases.html\"),\n",
    "    (\"Sinovac\", \"Sinovac Biotech Ltd.\", \"SVA\", \"NASDAQ\", 460249280, \"small\", True, \"http://www.sinovacbio.com\", \"http://www.sinovacbio.com/?optionid=754\")\n",
    "]\n",
    "entry_records = \", \".join([\"%s\"]*len(entry))\n",
    "\n",
    "insert_query = (\n",
    "    f\"INSERT INTO  companies (company, company_yahoo, symbol, exchange, market_cap, company_size, is_american, url_home, url_pr) VALUES {entry_records}\"\n",
    ")\n",
    "\n",
    "connection.autocommit = True\n",
    "cursor = connection.cursor()\n",
    "cursor.execute(insert_query, entry)"
   ]
  }
 ],
 "metadata": {
  "kernelspec": {
   "display_name": "Python 3",
   "language": "python",
   "name": "python3"
  },
  "language_info": {
   "codemirror_mode": {
    "name": "ipython",
    "version": 3
   },
   "file_extension": ".py",
   "mimetype": "text/x-python",
   "name": "python",
   "nbconvert_exporter": "python",
   "pygments_lexer": "ipython3",
   "version": "3.8.2"
  }
 },
 "nbformat": 4,
 "nbformat_minor": 4
}
