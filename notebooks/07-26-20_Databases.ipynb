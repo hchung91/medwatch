{
 "cells": [
  {
   "cell_type": "code",
   "execution_count": 1,
   "metadata": {},
   "outputs": [],
   "source": [
    "%load_ext autoreload\n",
    "%autoreload 2\n",
    "\n",
    "# Had issues pip installing psycopg2\n",
    "# Run following command to resolve:\n",
    "# env LDFLAGS=\"-I/usr/local/opt/openssl/include -L/usr/local/opt/openssl/lib\" pip install psycopg2\n",
    "# ref: https://stackoverflow.com/questions/39767810/cant-install-psycopg2-package-through-pip-install-is-this-because-of-sierra\n",
    "import psycopg2\n",
    "from psycopg2 import OperationalError"
   ]
  },
  {
   "cell_type": "code",
   "execution_count": 25,
   "metadata": {},
   "outputs": [],
   "source": [
    "def create_connection(\n",
    "    db_name, db_user, db_password, \n",
    "    db_host, db_port):\n",
    "    \"\"\"\n",
    "    Establishes a connection with a PostgreSQL database\n",
    "    \n",
    "    Parameters:\n",
    "    -------------\n",
    "    db_name: str - Name of database\n",
    "    db_user: str - Name of user\n",
    "    db_password: str - Database password\n",
    "    db_host: str - e.g. 127.0.0.1 (localhost)\n",
    "    db_port: str - default 5432\n",
    "    \n",
    "    Returns:\n",
    "    -------------\n",
    "    n/a\n",
    "    \"\"\"\n",
    "        \n",
    "    connection = None\n",
    "    \n",
    "    try:\n",
    "        connection = psycopg2.connect(\n",
    "            database=db_name,\n",
    "            user=db_user,\n",
    "            password=db_password,\n",
    "            host=db_host,\n",
    "            port=db_port\n",
    "        )\n",
    "        print(\"Connection to PostgreSQL DB successful\")\n",
    "        \n",
    "    except OperationalError as e:\n",
    "        print(f\"The error '{e}' occurred\")\n",
    "    \n",
    "    return connection\n",
    "\n",
    "\n",
    "def execute_query(connection, query):\n",
    "    \"\"\"\n",
    "    Submit a query to a PostgreSQL database\n",
    "    \n",
    "    Parameters:\n",
    "    -------------\n",
    "    connection: psycopg2 object - Can create one using create_conneciton\n",
    "    query: str - Any PostgreSQL query as a string\n",
    "    \n",
    "    Returns:\n",
    "    -------------\n",
    "    n/a\n",
    "    \"\"\"\n",
    "    \n",
    "    connection.autocommit = True\n",
    "    cursor = connection.cursor()\n",
    "    try:\n",
    "        cursor.execute(query)\n",
    "        print(\"Query executed succesfully\")\n",
    "    except OperationalError as e:\n",
    "        print(f\"The error '{e}' occurred\")\n",
    "        \n",
    "        \n",
    "def create_database(connection, db_name):\n",
    "    \"\"\"\n",
    "    Creates a database if it does not already exist\n",
    "    \n",
    "    Parameters:\n",
    "    -------------\n",
    "    connection: psycopg2 object - Can create one using create_conneciton\n",
    "    db_name: str - Name of database to be created\n",
    "    \n",
    "    Returns:\n",
    "    -------------\n",
    "    n/a\n",
    "    \"\"\"\n",
    "    \n",
    "    query_check = f\"SELECT 1 FROM pg_catalog.pg_database WHERE datname = \\'{db_name}\\'\"\n",
    "    connection.autocommit = True\n",
    "    cursor = connection.cursor()\n",
    "    cursor.execute(query_check)\n",
    "    exists = cursor.fetchone()\n",
    "    \n",
    "    if not exists:\n",
    "        cursor.execute(f\"CREATE DATABASE {db_name}\")\n",
    "    query = f\"CREATE DATABASE {db_name} \\n\"\n",
    "    execute_query(connection, query)"
   ]
  },
  {
   "cell_type": "code",
   "execution_count": 26,
   "metadata": {},
   "outputs": [
    {
     "name": "stdout",
     "output_type": "stream",
     "text": [
      "Password:\n",
      "Connection to PostgreSQL DB successful\n",
      "select exists(\n",
      "    SELECT datname FROM pg_catalog.pg_database WHERE lower(datname) = lower('medwatch')\n",
      ");\n",
      "\n",
      "Query executed succesfully\n"
     ]
    }
   ],
   "source": [
    "pw = input(\"Password:\")\n",
    "\n",
    "connection_init = create_connection(\n",
    "    \"postgres\", \"postgres\", pw, \"127.0.0.1\", \"5432\"\n",
    ")\n",
    "\n",
    "dbname = \"medwatch\"\n",
    "# Check if database exists\n",
    "query = f\"\"\"select exists(\n",
    "    SELECT datname FROM pg_catalog.pg_database WHERE lower(datname) = lower(\\'{dbname}\\')\n",
    ");\n",
    "\"\"\"\n",
    "\n",
    "execute_query(connection_init, query)"
   ]
  },
  {
   "cell_type": "code",
   "execution_count": 22,
   "metadata": {},
   "outputs": [
    {
     "ename": "DuplicateDatabase",
     "evalue": "database \"medwatch\" already exists\n",
     "output_type": "error",
     "traceback": [
      "\u001b[0;31m---------------------------------------------------------------------------\u001b[0m",
      "\u001b[0;31mDuplicateDatabase\u001b[0m                         Traceback (most recent call last)",
      "\u001b[0;32m<ipython-input-22-b31e386704b7>\u001b[0m in \u001b[0;36m<module>\u001b[0;34m\u001b[0m\n\u001b[0;32m----> 1\u001b[0;31m \u001b[0mcreate_database\u001b[0m\u001b[0;34m(\u001b[0m\u001b[0mconnection_init\u001b[0m\u001b[0;34m,\u001b[0m \u001b[0;34m'medwatch'\u001b[0m\u001b[0;34m)\u001b[0m\u001b[0;34m\u001b[0m\u001b[0;34m\u001b[0m\u001b[0m\n\u001b[0m\u001b[1;32m      2\u001b[0m \u001b[0;34m\u001b[0m\u001b[0m\n\u001b[1;32m      3\u001b[0m \u001b[0mconnection_init\u001b[0m\u001b[0;34m.\u001b[0m\u001b[0mclose\u001b[0m\u001b[0;34m(\u001b[0m\u001b[0;34m)\u001b[0m\u001b[0;34m\u001b[0m\u001b[0;34m\u001b[0m\u001b[0m\n\u001b[1;32m      4\u001b[0m \u001b[0;34m\u001b[0m\u001b[0m\n\u001b[1;32m      5\u001b[0m connection = create_connection(\n",
      "\u001b[0;32m<ipython-input-19-33cbb6c548ac>\u001b[0m in \u001b[0;36mcreate_database\u001b[0;34m(connection, db_name)\u001b[0m\n\u001b[1;32m     74\u001b[0m \u001b[0;34m\u001b[0m\u001b[0m\n\u001b[1;32m     75\u001b[0m     \u001b[0mquery\u001b[0m \u001b[0;34m=\u001b[0m \u001b[0;34mf\"CREATE DATABASE {db_name} \\n\"\u001b[0m\u001b[0;34m\u001b[0m\u001b[0;34m\u001b[0m\u001b[0m\n\u001b[0;32m---> 76\u001b[0;31m     \u001b[0mexecute_query\u001b[0m\u001b[0;34m(\u001b[0m\u001b[0mconnection\u001b[0m\u001b[0;34m,\u001b[0m \u001b[0mquery\u001b[0m\u001b[0;34m)\u001b[0m\u001b[0;34m\u001b[0m\u001b[0;34m\u001b[0m\u001b[0m\n\u001b[0m",
      "\u001b[0;32m<ipython-input-19-33cbb6c548ac>\u001b[0m in \u001b[0;36mexecute_query\u001b[0;34m(connection, query)\u001b[0m\n\u001b[1;32m     53\u001b[0m     \u001b[0mcursor\u001b[0m \u001b[0;34m=\u001b[0m \u001b[0mconnection\u001b[0m\u001b[0;34m.\u001b[0m\u001b[0mcursor\u001b[0m\u001b[0;34m(\u001b[0m\u001b[0;34m)\u001b[0m\u001b[0;34m\u001b[0m\u001b[0;34m\u001b[0m\u001b[0m\n\u001b[1;32m     54\u001b[0m     \u001b[0;32mtry\u001b[0m\u001b[0;34m:\u001b[0m\u001b[0;34m\u001b[0m\u001b[0;34m\u001b[0m\u001b[0m\n\u001b[0;32m---> 55\u001b[0;31m         \u001b[0mcursor\u001b[0m\u001b[0;34m.\u001b[0m\u001b[0mexecute\u001b[0m\u001b[0;34m(\u001b[0m\u001b[0mquery\u001b[0m\u001b[0;34m)\u001b[0m\u001b[0;34m\u001b[0m\u001b[0;34m\u001b[0m\u001b[0m\n\u001b[0m\u001b[1;32m     56\u001b[0m         \u001b[0mprint\u001b[0m\u001b[0;34m(\u001b[0m\u001b[0;34m\"Query executed succesfully\"\u001b[0m\u001b[0;34m)\u001b[0m\u001b[0;34m\u001b[0m\u001b[0;34m\u001b[0m\u001b[0m\n\u001b[1;32m     57\u001b[0m     \u001b[0;32mexcept\u001b[0m \u001b[0mOperationalError\u001b[0m \u001b[0;32mas\u001b[0m \u001b[0me\u001b[0m\u001b[0;34m:\u001b[0m\u001b[0;34m\u001b[0m\u001b[0;34m\u001b[0m\u001b[0m\n",
      "\u001b[0;31mDuplicateDatabase\u001b[0m: database \"medwatch\" already exists\n"
     ]
    }
   ],
   "source": [
    "create_database(connection_init, 'medwatch')\n",
    "\n",
    "connection_init.close()\n",
    "\n",
    "connection = create_connection(\n",
    "    \"medwatch\", \"postgres\", pw, \"127.0.0.1\", \"5432\"\n",
    ")"
   ]
  },
  {
   "cell_type": "code",
   "execution_count": 27,
   "metadata": {},
   "outputs": [
    {
     "name": "stdout",
     "output_type": "stream",
     "text": [
      "Query executed succesfully\n"
     ]
    }
   ],
   "source": [
    "create_companies_table = \"\"\"\n",
    "CREATE TABLE IF NOT EXISTS companies (\n",
    "  company TEXT,\n",
    "  company_yahoo TEXT,\n",
    "  symbol TEXT,\n",
    "  exchange TEXT, \n",
    "  market_cap INT8,\n",
    "  company_size TEXT,\n",
    "  is_american BOOL,\n",
    "  url_home TEXT,\n",
    "  url_pr TEXT\n",
    ")\n",
    "\"\"\"\n",
    "\n",
    "execute_query(connection, create_companies_table)"
   ]
  },
  {
   "cell_type": "code",
   "execution_count": 28,
   "metadata": {},
   "outputs": [],
   "source": [
    "entry = [\n",
    "    (\"AstraZeneca\", \"AstraZeneca PLC\", \"AZN\", \"NYSE\", 139802e11, \"large\", True, \"http://www.astrazeneca.com\", \"https://www.astrazeneca.com/media-centre/press-releases.html\"),\n",
    "    (\"Sinovac\", \"Sinovac Biotech Ltd.\", \"SVA\", \"NASDAQ\", 460249280, \"small\", True, \"http://www.sinovacbio.com\", \"http://www.sinovacbio.com/?optionid=754\")\n",
    "]\n",
    "entry_records = \", \".join([\"%s\"]*len(entry))\n",
    "\n",
    "insert_query = (\n",
    "    f\"INSERT INTO  companies (company, company_yahoo, symbol, exchange, market_cap, company_size, is_american, url_home, url_pr) VALUES {entry_records}\"\n",
    ")\n",
    "\n",
    "connection.autocommit = True\n",
    "cursor = connection.cursor()\n",
    "cursor.execute(insert_query, entry)"
   ]
  },
  {
   "cell_type": "code",
   "execution_count": 33,
   "metadata": {},
   "outputs": [],
   "source": [
    "connection.close()"
   ]
  }
 ],
 "metadata": {
  "kernelspec": {
   "display_name": "Python 3",
   "language": "python",
   "name": "python3"
  },
  "language_info": {
   "codemirror_mode": {
    "name": "ipython",
    "version": 3
   },
   "file_extension": ".py",
   "mimetype": "text/x-python",
   "name": "python",
   "nbconvert_exporter": "python",
   "pygments_lexer": "ipython3",
   "version": "3.8.2"
  }
 },
 "nbformat": 4,
 "nbformat_minor": 4
}
