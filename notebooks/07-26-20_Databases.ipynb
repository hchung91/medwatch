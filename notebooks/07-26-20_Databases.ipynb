{
 "cells": [
  {
   "cell_type": "code",
   "execution_count": 33,
   "metadata": {},
   "outputs": [
    {
     "name": "stdout",
     "output_type": "stream",
     "text": [
      "The autoreload extension is already loaded. To reload it, use:\n",
      "  %reload_ext autoreload\n"
     ]
    }
   ],
   "source": [
    "%load_ext autoreload\n",
    "%autoreload 2\n",
    "\n",
    "# Had issues pip installing psycopg2\n",
    "# Run following command to resolve:\n",
    "# env LDFLAGS=\"-I/usr/local/opt/openssl/include -L/usr/local/opt/openssl/lib\" pip install psycopg2\n",
    "# ref: https://stackoverflow.com/questions/39767810/cant-install-psycopg2-package-through-pip-install-is-this-because-of-sierra\n",
    "import psycopg2\n",
    "import csv\n",
    "from psycopg2 import OperationalError"
   ]
  },
  {
   "cell_type": "code",
   "execution_count": 27,
   "metadata": {},
   "outputs": [],
   "source": [
    "def create_connection(\n",
    "    db_name, db_user, db_password, \n",
    "    db_host, db_port):\n",
    "    \"\"\"\n",
    "    Establishes a connection with a PostgreSQL database\n",
    "    \n",
    "    Parameters:\n",
    "    -------------\n",
    "    db_name: str - Name of database\n",
    "    db_user: str - Name of user\n",
    "    db_password: str - Database password\n",
    "    db_host: str - e.g. 127.0.0.1 (localhost)\n",
    "    db_port: str - default 5432\n",
    "    \n",
    "    Returns:\n",
    "    -------------\n",
    "    n/a\n",
    "    \"\"\"\n",
    "        \n",
    "    connection = None\n",
    "    \n",
    "    try:\n",
    "        connection = psycopg2.connect(\n",
    "            database=db_name,\n",
    "            user=db_user,\n",
    "            password=db_password,\n",
    "            host=db_host,\n",
    "            port=db_port\n",
    "        )\n",
    "        print(\"Connection to PostgreSQL DB successful\")\n",
    "        \n",
    "    except OperationalError as e:\n",
    "        print(f\"The error '{e}' occurred\")\n",
    "    \n",
    "    return connection\n",
    "\n",
    "\n",
    "def execute_query(connection, query):\n",
    "    \"\"\"\n",
    "    Submit a query to a PostgreSQL database\n",
    "    \n",
    "    Parameters:\n",
    "    -------------\n",
    "    connection: psycopg2 object - Can create one using create_conneciton\n",
    "    query: str - Any PostgreSQL query as a string\n",
    "    \n",
    "    Returns:\n",
    "    -------------\n",
    "    n/a\n",
    "    \"\"\"\n",
    "    \n",
    "    connection.autocommit = True\n",
    "    cursor = connection.cursor()\n",
    "    try:\n",
    "        cursor.execute(query)\n",
    "        print(\"Query executed succesfully\")\n",
    "    except OperationalError as e:\n",
    "        print(f\"The error '{e}' occurred\")\n",
    "        \n",
    "        \n",
    "def create_database(connection, db_name):\n",
    "    \"\"\"\n",
    "    Creates a database if it does not already exist\n",
    "    \n",
    "    Parameters:\n",
    "    -------------\n",
    "    connection: psycopg2 object - Can create one using create_conneciton\n",
    "    db_name: str - Name of database to be created\n",
    "    \n",
    "    Returns:\n",
    "    -------------\n",
    "    n/a\n",
    "    \"\"\"\n",
    "    \n",
    "    query_check = f\"SELECT 1 FROM pg_catalog.pg_database WHERE datname = \\'{db_name}\\'\"\n",
    "    connection.autocommit = True\n",
    "    cursor = connection.cursor()\n",
    "    cursor.execute(query_check)\n",
    "    exists = cursor.fetchone()\n",
    "    \n",
    "    if not exists:\n",
    "        cursor.execute(f\"CREATE DATABASE {db_name}\")\n",
    "    else:\n",
    "        print(f\"Database of {db_name} already exists!\")"
   ]
  },
  {
   "cell_type": "code",
   "execution_count": 28,
   "metadata": {},
   "outputs": [
    {
     "name": "stdout",
     "output_type": "stream",
     "text": [
      "Password:\n",
      "Connection to PostgreSQL DB successful\n"
     ]
    }
   ],
   "source": [
    "pw = input(\"Password:\")\n",
    "\n",
    "connection_init = create_connection(\n",
    "    \"postgres\", \"postgres\", pw, \"127.0.0.1\", \"5432\"\n",
    ")\n",
    "\n",
    "# dbname = \"medwatch\"\n",
    "# # Check if database exists\n",
    "# query = f\"\"\"select exists(\n",
    "#     SELECT datname FROM pg_catalog.pg_database WHERE lower(datname) = lower(\\'{dbname}\\')\n",
    "# );\n",
    "# \"\"\"\n",
    "\n",
    "# execute_query(connection_init, query)"
   ]
  },
  {
   "cell_type": "code",
   "execution_count": 29,
   "metadata": {},
   "outputs": [
    {
     "name": "stdout",
     "output_type": "stream",
     "text": [
      "Database of medwatch already exists!\n",
      "Connection to PostgreSQL DB successful\n"
     ]
    }
   ],
   "source": [
    "create_database(connection_init, 'medwatch')\n",
    "\n",
    "connection_init.close()\n",
    "\n",
    "connection = create_connection(\n",
    "    \"medwatch\", \"postgres\", pw, \"127.0.0.1\", \"5432\"\n",
    ")"
   ]
  },
  {
   "cell_type": "code",
   "execution_count": 44,
   "metadata": {},
   "outputs": [
    {
     "ename": "InterfaceError",
     "evalue": "connection already closed",
     "output_type": "error",
     "traceback": [
      "\u001b[0;31m---------------------------------------------------------------------------\u001b[0m",
      "\u001b[0;31mInterfaceError\u001b[0m                            Traceback (most recent call last)",
      "\u001b[0;32m<ipython-input-44-b816d083efe1>\u001b[0m in \u001b[0;36m<module>\u001b[0;34m\u001b[0m\n\u001b[1;32m     13\u001b[0m \"\"\"\n\u001b[1;32m     14\u001b[0m \u001b[0;34m\u001b[0m\u001b[0m\n\u001b[0;32m---> 15\u001b[0;31m \u001b[0mexecute_query\u001b[0m\u001b[0;34m(\u001b[0m\u001b[0mconnection\u001b[0m\u001b[0;34m,\u001b[0m \u001b[0mcreate_companies_table\u001b[0m\u001b[0;34m)\u001b[0m\u001b[0;34m\u001b[0m\u001b[0;34m\u001b[0m\u001b[0m\n\u001b[0m",
      "\u001b[0;32m<ipython-input-27-e1cf9cebf07a>\u001b[0m in \u001b[0;36mexecute_query\u001b[0;34m(connection, query)\u001b[0m\n\u001b[1;32m     50\u001b[0m     \"\"\"\n\u001b[1;32m     51\u001b[0m \u001b[0;34m\u001b[0m\u001b[0m\n\u001b[0;32m---> 52\u001b[0;31m     \u001b[0mconnection\u001b[0m\u001b[0;34m.\u001b[0m\u001b[0mautocommit\u001b[0m \u001b[0;34m=\u001b[0m \u001b[0;32mTrue\u001b[0m\u001b[0;34m\u001b[0m\u001b[0;34m\u001b[0m\u001b[0m\n\u001b[0m\u001b[1;32m     53\u001b[0m     \u001b[0mcursor\u001b[0m \u001b[0;34m=\u001b[0m \u001b[0mconnection\u001b[0m\u001b[0;34m.\u001b[0m\u001b[0mcursor\u001b[0m\u001b[0;34m(\u001b[0m\u001b[0;34m)\u001b[0m\u001b[0;34m\u001b[0m\u001b[0;34m\u001b[0m\u001b[0m\n\u001b[1;32m     54\u001b[0m     \u001b[0;32mtry\u001b[0m\u001b[0;34m:\u001b[0m\u001b[0;34m\u001b[0m\u001b[0;34m\u001b[0m\u001b[0m\n",
      "\u001b[0;31mInterfaceError\u001b[0m: connection already closed"
     ]
    }
   ],
   "source": [
    "create_companies_table = \"\"\"\n",
    "CREATE TABLE IF NOT EXISTS companies (\n",
    "  company TEXT,\n",
    "  company_yahoo TEXT,\n",
    "  symbol TEXT,\n",
    "  exchange TEXT, \n",
    "  market_cap INT8,\n",
    "  company_size TEXT,\n",
    "  is_american BOOL,\n",
    "  url_home TEXT,\n",
    "  url_pr TEXT\n",
    ")\n",
    "\"\"\"\n",
    "\n",
    "execute_query(connection, create_companies_table)"
   ]
  },
  {
   "cell_type": "code",
   "execution_count": 43,
   "metadata": {},
   "outputs": [
    {
     "name": "stdout",
     "output_type": "stream",
     "text": [
      "[('Medicago Inc.', None, None, None, None, None, None, None, None), ('AstraZeneca', 'AstraZeneca PLC', 'AZN', 'NYSE', 139802000000, 'large', True, 'http://www.astrazeneca.com', 'https://www.astrazeneca.com/media-centre/press-releases.html'), ('Cadila Healthcare Limited', None, None, None, None, None, None, None, None), ('Beijing Institute of Biotechnology', None, None, None, None, None, None, None, None), (' Takara Bio', 'Takara Bio Inc.', 'TKBIF', 'OTC Markets', None, None, False, 'http://www.takara-bio.com', 'http://www.takara-bio.com/release/'), ('Wuhan Institute of Biological Products', None, None, None, None, None, None, None, None), ('Beijing Institute of Biological Products', None, None, None, None, None, None, None, None), ('Sinovac', 'Sinovac Biotech Ltd.', 'SVA', 'NASDAQ', 460249280, 'small', True, 'http://www.sinovacbio.com', 'http://www.sinovacbio.com/?optionid=754'), ('Gamaleya Research Institute', None, None, None, None, None, None, None, None), ('Moderna', 'Moderna, Inc.', 'MRNA', 'NASDAQ', 23242334208, 'large', True, 'http://www.modernatx.com', 'https://investors.modernatx.com/news-releases/'), (' Université Laval', None, None, None, None, None, None, None, None), ('Walvax Biotech.', 'Walvax Biotechnology Co., Ltd.', '300142.SZ', 'Shenzhen', 89156149248, 'large', False, 'http://www.walvax.com', None), ('Inovio Pharmaceuticals', 'Inovio Pharmaceuticals, Inc.', 'INO', 'NASDAQ', 3696284416, 'medium', True, 'http://www.inovio.com', 'http://ir.inovio.com/news-releases/default.aspx'), ('BioNTech', 'BioNTech SE', 'BNTX', 'NASDAQ', 15956241408, 'large', True, 'http://www.biontech.de', 'https://investors.biontech.de/press-releases/'), ('NIAID', None, None, None, None, None, None, None, None), ('GSK', 'GlaxoSmithKline plc', 'GSK', 'NYSE', 99641303040, 'large', True, 'http://www.gsk.com', 'https://www.gsk.com/en-gb/media/press-releases/'), ('Vaxine Pty Ltd', None, None, None, None, None, None, None, None), ('Medytox', None, None, None, None, None, None, None, None), ('Clover Biopharmaceuticals Inc.', None, None, None, None, None, None, None, None), ('CanSino Biological Inc.', None, None, None, None, None, None, None, None), ('Curevac', None, None, None, None, None, None, None, None), ('Pfizer', 'Pfizer Inc.', 'PFE', 'NYSE', 187920000000, 'large', True, 'http://www.pfizer.com', 'https://investors.pfizer.com/investor-news/default.aspx'), ('Sinopharm', 'Sinopharm Group Co., Ltd.', 'SHTDY', 'OTC Markets', 8038292992, 'medium', False, 'http://www.sinopharmgroup.com.cn', 'http://ir.sinopharmgroup.com.cn/'), ('Anhui Zhifei Longcom Biopharmaceutical', None, None, None, None, None, None, None, None), ('Dynavax', 'Dynavax Technologies Corporation', 'DVAX', 'NASDAQ', 942173312, 'small', True, 'http://www.dynavax.com', 'http://investors.dynavax.com/press-releases'), ('Novavax', 'Novavax, Inc.', 'NVAX', 'NASDAQ', 5537780736, 'medium', True, 'http://www.novavax.com', 'https://ir.novavax.com/press-releases'), (' AnGes', 'AnGes, Inc.', 'AMGXF', 'OTC Markets', None, None, False, 'http://www.anges.co.jp', 'https://www.anges.co.jp/en/news/index.php'), (' International Vaccine Institute', None, None, None, None, None, None, None, None), ('Fosun Pharma', 'Shanghai Fosun Pharmaceutical (Group) Co., Ltd.', 'SFOSF', 'OTC Markets', 12300502016, 'large', False, 'http://www.fosunpharma.com', 'https://www.fosunpharma.com/en/news/groupNews.html'), ('Genexine Consortium', None, None, None, None, None, None, None, None)]\n"
     ]
    }
   ],
   "source": [
    "# entry = [\n",
    "#     (\"AstraZeneca\", \"AstraZeneca PLC\", \"AZN\", \"NYSE\", 139802e11, \"large\", True, \"http://www.astrazeneca.com\", \"https://www.astrazeneca.com/media-centre/press-releases.html\"),\n",
    "#     (\"Sinovac\", \"Sinovac Biotech Ltd.\", \"SVA\", \"NASDAQ\", 460249280, \"small\", True, \"http://www.sinovacbio.com\", \"http://www.sinovacbio.com/?optionid=754\")\n",
    "# ]\n",
    "\n",
    "entry = []\n",
    "with open('../datasets/updated_company_list.csv') as csvfile:\n",
    "    readCSV = csv.reader(csvfile, delimiter=',')\n",
    "    next(readCSV) # Skip header\n",
    "    \n",
    "    for row in readCSV:\n",
    "        for i, element in enumerate(row):\n",
    "            if element == 'n/a':\n",
    "                row[i] = None\n",
    "            elif i == 4:\n",
    "                row[i] = int(float(element))\n",
    "            elif i == 6:\n",
    "                if element == 'Y':\n",
    "                    row[i] = True\n",
    "                elif element == 'N':\n",
    "                    row[i] = False\n",
    "                else:\n",
    "                    row[i] = False\n",
    "                    print('Not a valid Y or N argument')\n",
    "            \n",
    "        entry.append(tuple(row))\n",
    "\n",
    "print(entry)\n",
    "\n",
    "entry_records = \", \".join([\"%s\"]*len(entry))\n",
    "\n",
    "insert_query = (\n",
    "    f\"INSERT INTO  companies (company, company_yahoo, symbol, exchange, market_cap, company_size, is_american, url_home, url_pr) VALUES {entry_records}\"\n",
    ")\n",
    "\n",
    "connection.autocommit = True\n",
    "cursor = connection.cursor()\n",
    "cursor.execute(insert_query, entry)"
   ]
  },
  {
   "cell_type": "code",
   "execution_count": 32,
   "metadata": {},
   "outputs": [],
   "source": [
    "connection.close()"
   ]
  },
  {
   "cell_type": "code",
   "execution_count": null,
   "metadata": {},
   "outputs": [],
   "source": []
  }
 ],
 "metadata": {
  "kernelspec": {
   "display_name": "Python 3",
   "language": "python",
   "name": "python3"
  },
  "language_info": {
   "codemirror_mode": {
    "name": "ipython",
    "version": 3
   },
   "file_extension": ".py",
   "mimetype": "text/x-python",
   "name": "python",
   "nbconvert_exporter": "python",
   "pygments_lexer": "ipython3",
   "version": "3.8.2"
  }
 },
 "nbformat": 4,
 "nbformat_minor": 4
}
